{
 "cells": [
  {
   "cell_type": "markdown",
   "metadata": {
    "colab_type": "text",
    "id": "qwLGahydX5SB"
   },
   "source": [
    "# Computing 3 Assignment\n"
   ]
  },
  {
   "cell_type": "markdown",
   "metadata": {
    "colab_type": "text",
    "id": "7ti8TYwYX5NI"
   },
   "source": [
    "---\n",
    "## Background\n",
    "\n",
    "Generating statistics from a set of data is a task that computers love. In this assignment, you and your team will be implementing a grade processing system that will generate the mean and standard deviation for a set of final exam grades.\n",
    "\n",
    "We will assume that final grades are stored in a list, where each entry in the list is a string with the following format:\n",
    "\n",
    "<div align=\"center\">\n",
    "\"studentNum-finalGrade%\"\n",
    "</div>\n",
    "\n",
    "The string represents the final exam mark (*finalGrade*) that the student (*studentNum*) achieved. For example, the cell below contains a list of final exam marks from two students. Student **1007089** achieved a mark of **91%**, and student **1009989** achieved a mark of **77.5%**.\n",
    "\n",
    "```\n",
    "grades = ['1007089-91%','1009989-77.5%']\n",
    "```\n",
    "\n",
    "We want to calculate the mean final exam mark from a list of grades. If we assume that we have **N** grades, the mean **$\\bar{x}$** can be calculated from the following formula:\n",
    "\n",
    "\n",
    "<br/>\n",
    "\\begin{align}\n",
    "  \\bar{x} = \\frac{1}{N}\\sum_{i=0}^{N-1} x_i \\tag{1}\n",
    "\\end{align}\n",
    "<br/>\n",
    "\n",
    "The variable **$x_i$** represents each grade in our list at index i. We assume that we start counting at 0.\n",
    "\n",
    "We also want to be able to calculate the standard deviation from a list of grades. The standard deviation measures the amount of variability in our data set. For example, let’s say we want to compute the average and standard deviation for the grades [80, 90, 70, 60]. The average of these grades is 75, and the standard deviation is 11.2. Now imagine we want to compute the average and standard deviation for the grades [80, 76 ,74, 70]. The average of these grades is 75, but the standard deviation is 3.6. Although both sets of grades have the same average, the second set has a smaller standard deviation. The reason is because the grades are not as “spread out” as the grades in the first set. The grades in the second set deviate from their average by a small amount.\n",
    "\n",
    "The standard deviation $\\sigma$ is calculated using our mean $\\bar{x}$ and the following formula:\n",
    "\n",
    "<br/>\n",
    "\\begin{align}\n",
    "  \\sigma = \\sqrt{\\frac{1}{N}\\sum_{i=0}^{N-1} (x_i-\\bar{x})^2} \\tag{2}\n",
    "\\end{align}\n",
    "<br/>\n",
    "\n",
    "The requirements of the program are given below.\n",
    "\n",
    "\n"
   ]
  },
  {
   "cell_type": "markdown",
   "metadata": {
    "colab_type": "text",
    "id": "F0rMpqpbbe6b"
   },
   "source": [
    "---\n",
    "## Requirements\n",
    "\n",
    "The requirements of the program are given below. Please ensure that your functions have the EXACT naming as specified! Failure to do so will result in lost marks.\n",
    "\n",
    "1. Define a function **extractGrade**(*x*):\n",
    "  - ***x***: A *string* containing a student number and grade in the format \"studentNum-Grade%\"\n",
    "  - **Return**: The student's grade as a *float*.\n",
    "  \n",
    "\n",
    "2. Define a function **classAverage**(*final_marks*):\n",
    "  - ***final_marks***: A *list* of strings, where each string is formatted as \"studentNum-Grade%\".\n",
    "  - **Return**: The mean grade of the grades in *final_marks* calculated using equation (1).<br/>*(Hint: Use your **extractGrade** function and a for loop!)*\n",
    "\n",
    "\n",
    "3. Define a function **classStdDev**(*final_marks*):\n",
    "  - ***final_marks***: A *list* of strings, where each string is formatted as \"studentNum-Grade%\".\n",
    "  - **Return**: The standard deviation of the grades in *final_marks* calculated using equation (2)."
   ]
  },
  {
   "cell_type": "markdown",
   "metadata": {
    "colab_type": "text",
    "id": "0sCzEGhfc6ln"
   },
   "source": [
    "---\n",
    "## Implementation\n",
    "Please define all functions in the cell below"
   ]
  },
  {
   "cell_type": "code",
   "execution_count": 41,
   "metadata": {
    "colab": {},
    "colab_type": "code",
    "id": "NhNJnwTQYBQ2"
   },
   "outputs": [],
   "source": [
    "# YOUR CODE HERE\n",
    "def extractGrade(x):\n",
    "    '''Returns the grade element in string x'''\n",
    "\n",
    "    num = x.split('-')[1]  # grabs the portion of the string after the -\n",
    "    num = num.replace('%', '')  # removes the %\n",
    "    return float(num)  # convert to float and return\n",
    "\n",
    "def classAverage(final_marks):\n",
    "    '''Returns the average of all grades inside the list final_marks'''\n",
    "\n",
    "    # loop through mark strings, add the grade portion of that string to our total\n",
    "    i = 0\n",
    "    for mark in final_marks:\n",
    "        i += extractGrade(mark)\n",
    "\n",
    "    return i/len(final_marks)  # divide total by amount of elements (to calculate mean) and return\n",
    "\n",
    "def classStdDev(final_marks):\n",
    "    '''Returns the standard deviation of all grades inside the list final_marks'''\n",
    "\n",
    "    avg = classAverage(final_marks)  # take average of our marks\n",
    "\n",
    "    # loop through mark strings, extract grade, subtract the average from it and square it (as in StdDev formula)\n",
    "    i = 0\n",
    "    for mark in final_marks:\n",
    "        i += (extractGrade(mark)-avg)**2\n",
    "\n",
    "    # divide total by amount of elements and square root it (as in StdDev formula), then return\n",
    "    return (i/len(final_marks))**0.5  \n"
   ]
  },
  {
   "cell_type": "markdown",
   "metadata": {
    "colab_type": "text",
    "id": "WgMyyo-vdVT_"
   },
   "source": [
    "---\n",
    "## Testing\n",
    "\n",
    "The following code creates a main function that you can use to test out your code once you have implemented your functions.\n",
    "\n",
    "```\n",
    "def main():\n",
    "  final_exam_grades = [\"1003324-71.5%\",\"1001425-99.5%\",\"1009980-86.0%\",\"1001480-84.0%\",\"1005244-87.0%\"]\n",
    "  avg = classAverage(final_exam_grades)\n",
    "  std_dev = classStdDev(final_exam_grades)\n",
    "  print(\"Final exam class average:\",round(avg,3),\"%\")\n",
    "  print(\"Final exam standard deviation:\",round(std_dev,3),\"%\")\n",
    "main()\n",
    "```\n",
    "\n",
    "Copy the code and paste it into the cell below. Run the cell to verify that your code works correctly with the provided input. The following message should be printed after the main() function above is run:\n",
    "\n",
    ">*Final exam class average: 85.6 %<br/>\n",
    ">Final exam standard deviation: 8.907 %<br/>*\n",
    "\n",
    "\n",
    "\n",
    "\n",
    "\n",
    "\n"
   ]
  },
  {
   "cell_type": "code",
   "execution_count": 43,
   "metadata": {
    "colab": {
     "base_uri": "https://localhost:8080/",
     "height": 51
    },
    "colab_type": "code",
    "id": "YVAvbxoMdcuj",
    "outputId": "9cd3f3f2-5618-4687-92f5-d3a744f518b5"
   },
   "outputs": [
    {
     "output_type": "stream",
     "name": "stdout",
     "text": [
      "Final exam class average: 85.6 %\nFinal exam standard deviation: 8.907 %\n"
     ]
    }
   ],
   "source": [
    "# PASTE CODE HERE\n",
    "def main():\n",
    "  final_exam_grades = [\"1003324-71.5%\",\"1001425-99.5%\",\"1009980-86.0%\",\"1001480-84.0%\",\"1005244-87.0%\"]\n",
    "  avg = classAverage(final_exam_grades)\n",
    "  print(\"Final exam class average:\",round(avg,3),\"%\")\n",
    "  std_dev = classStdDev(final_exam_grades)\n",
    "  print(\"Final exam standard deviation:\",round(std_dev,3),\"%\")\n",
    "main()"
   ]
  },
  {
   "cell_type": "markdown",
   "metadata": {
    "colab_type": "text",
    "id": "0eGVQmy5dhDe"
   },
   "source": [
    "Note that your code is not necessarily correct if your output matches the expected output. Your code will be checked against multiple inputs for correctness. The cell above it not graded, so feel free to modify the code as you wish!"
   ]
  },
  {
   "cell_type": "markdown",
   "metadata": {
    "colab_type": "text",
    "id": "I-H2l4mYdqMe"
   },
   "source": [
    "---\n",
    "## Reflective Questions\n",
    "\n",
    "1. Assume that you always supply the correctly formatted input into your **classAverage** and **classStdDev** functions. That is, a list where entries are strings that follow the “studentNum-finalGrade%” format. Is there any input that can cause your program to fail?\n",
    "\n",
    "2. How would your code change if the string format was changed from “studentNum-finalGrade%” to “studentNum:finalGrade”? You do not need to implement this change but explain what needs to be modified. \n",
    "\n",
    "3. Can you compute the average and standard deviation grade using a single for loop? Why or why not.\n",
    "\n",
    "Please answer all questions in the cell below!"
   ]
  },
  {
   "cell_type": "markdown",
   "metadata": {
    "colab": {},
    "colab_type": "code",
    "id": "d5A_9jeadq8F"
   },
   "source": [
    "```\n",
    "DOUBLE CLICK TO EDIT THIS CELL. DO NOT ERASE THE TRIPLE QUOTATION MARKS\n",
    "1. A sufficently large string would eventually cause the program to run out of memory and fail. Besides that, I do not see any other situation where the program would fail.\n",
    "\n",
    "2. The function extractGrade() would have to change, specifically the string would have to be split on ':' rather than '-' and the line removing '%' could be removed. The second part is not required for the function to work, however it would improve execution time\n",
    "\n",
    "3. You cannot compute both values in a single for loop. This is because the values of elements in the standard deviation summation are dependent on the average, which means the average must be calculated before the standard deviation can be calculated. \n",
    "```"
   ]
  },
  {
   "cell_type": "markdown",
   "metadata": {},
   "source": [
    "---\n",
    "## Submission\n",
    "\n",
    "Please download this notebook as a .py file (*File* > *Download as* > *Python (.py)*) and submit it to the Computing Lab 3 dropbox on avenue with the naming convention: macID_CL3.py\n",
    "\n",
    "This assignment is due the day after your Lab A section at 11:59 PM EST\n",
    "\n",
    "Late labs will not be accepted"
   ]
  }
 ],
 "metadata": {
  "colab": {
   "collapsed_sections": [],
   "name": "Computing 3 - Assignment Solution",
   "provenance": []
  },
  "kernelspec": {
   "name": "Python 3.8.2 32-bit",
   "display_name": "Python 3.8.2 32-bit",
   "metadata": {
    "interpreter": {
     "hash": "19f9c55c269f5a0d491492c337ff72d161c925164052b8f71974adb7d23217ea"
    }
   }
  },
  "language_info": {
   "codemirror_mode": {
    "name": "ipython",
    "version": 3
   },
   "file_extension": ".py",
   "mimetype": "text/x-python",
   "name": "python",
   "nbconvert_exporter": "python",
   "pygments_lexer": "ipython3",
   "version": "3.8.2-final"
  }
 },
 "nbformat": 4,
 "nbformat_minor": 1
}