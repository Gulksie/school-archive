{
  "nbformat": 4,
  "nbformat_minor": 0,
  "metadata": {
    "colab": {
      "name": "Computing Pre-Lab Notebook #3",
      "provenance": [],
      "collapsed_sections": []
    },
    "kernelspec": {
      "name": "python3",
      "display_name": "Python 3"
    }
  },
  "cells": [
    {
      "cell_type": "markdown",
      "metadata": {
        "id": "QNa8iArXtPq4"
      },
      "source": [
        "# __Computing Lab *3*__ - _In The Loop_\n",
        "---\n",
        "# Overview\n",
        "Welcome to our third online computing module. This week we'll be covering:\n",
        "*   Lists\n",
        "*   String Operations\n",
        "*   For Loops\n",
        "\n",
        "<br/>\n",
        "\n",
        "# 1 Background\n",
        "\n",
        "## 1.1 Sequences & Iterable Objects\n",
        "\n",
        "* Iterable objects can return its elements one by one\n",
        " \n",
        " * Any iterable object in Python can be processed with a for loop (explanation later)\n",
        "\n",
        " * E.g., lists, strings, etc.\n",
        "* Not all iterable objects are sequences\n",
        " * E.g., dictionaries, file objects, sets\n",
        "\n",
        "* **Mutable/Immutable**\n",
        "  * If an object can be modified after it's said to be _**mutable**_\n",
        "  * If an object cannot be modified after it's said to be _**immutable**_\n",
        "\n",
        "\n",
        "## 0.2 Summation and Product Notation\n",
        "**This is useful to know for Repetition Structures**\n",
        "### Summation Notation\n",
        "__Summation notation__, also called __Sigma notation__ represents the sum of a sequence.<br/>\n",
        "\n",
        "#### $\\sum_{k=1}^n x_k$  <br/> \n",
        "We can take a look at what each component means here:\n",
        "* $n$ is the upper limit, which is where the summation ends\n",
        "* $\\sum$ is the Greek letter \"Sigma\" and is the summation symbol\n",
        "* $k$ is the lower limit, which is where the summation begins\n",
        "* $x_k$ is the argument, which is the expression to be added\n",
        "\n",
        "__Example:__ Here we have the sum of the values of $x$ from $x_1$ to $x_n$ <br/>\n",
        "> $\\sum_{j=1}^n x_j = x_1 + x_2 + x_3 + ... + x_n$\n",
        "\n",
        "> $\\sum_{j=3}^6 j = 3 + 4 + 5 + 6  = 18 $ \n",
        "\n",
        "\n",
        "### Product Notation\n",
        "__Product notation__, also called __Pi notation__ represents the multiplication of the elements in a sequence.<br/>\n",
        "\n",
        "#### $\\prod_{k=1}^n x_k$  <br/> \n",
        "We can take a look at what each component means here:\n",
        "* $n$ is the upper limit\n",
        "* $\\prod$ is the Greek letter \"Pi\" and is the product symbol\n",
        "* $k$ is the lower limit\n",
        "* $x_k$ is the argument, which is the expression to be multiplied\n",
        "\n",
        "__Example:__ Here we have three examples of product notation in action <br/> \n",
        "> $\\prod_{i=1}^5 i = 1 \\times 2 \\times 3 \\times 4 \\times 5 = 120 = 5!$ \n",
        "\n",
        "> $\\prod_{i=2}^5 i^2 = (2)^2 \\times (3)^2 \\times (4)^2 \\times (5)^2 = (4)\\times (9) \\times (16) \\times (25) = 14,400$ \n",
        "\n",
        "> $\\prod_{i=0}^3 i = 0 \\times 1 \\times 2 \\times 3 = 0$ \n",
        "<br/> \n",
        "<br/>\n",
        "\n",
        "__Note:__ Using the letters i, j, and k is typical in indexing \n",
        "\n",
        "\n",
        "\n",
        "\n"
      ]
    },
    {
      "cell_type": "markdown",
      "metadata": {
        "id": "E0JdlgcpKPvz"
      },
      "source": [
        "---\n",
        "# 2. Lists\n",
        "## 2.0 Lists\n",
        "**Lists** are an ordered collection data type in python and are used to organize/collect multiple variables.\n",
        "* An element in a list is call an item\n",
        "* Lists can hold multiple types of data\n",
        "\n",
        "Let's take a look at how we can define and initalize lists below"
      ]
    },
    {
      "cell_type": "code",
      "metadata": {
        "id": "dUHl_ot-KaFq",
        "outputId": "62e04e2c-4e4f-42d5-e0a5-97e50081df97",
        "colab": {
          "base_uri": "https://localhost:8080/",
          "height": 68
        }
      },
      "source": [
        "'''\n",
        "Define a list of intergers, a list of strings, then a list containing an \n",
        "interger, a float, and a string. Then run this cell (SHIFT + ENTER)\n",
        "'''\n",
        "# A list of integers\n",
        "fibonacci = [ 0, 1, 1, 2, 3, 5]\n",
        "\n",
        "# A list of strings\n",
        "planets = ['Mercury', 'Venus', 'Earth', 'Mars', 'Jupiter', 'Saturn', 'Uranus', 'Neptune']\n",
        "\n",
        "# A list of mixed data types\n",
        "mixed_list = [10, 20.0, 'thirty']\n",
        "\n",
        "# Print lists that have been defined\n",
        "print(fibonacci)\n",
        "print(planets)\n",
        "print(mixed_list)"
      ],
      "execution_count": null,
      "outputs": [
        {
          "output_type": "stream",
          "text": [
            "[1, 1, 2, 3, 5]\n",
            "['Mercury', 'Venus', 'Earth', 'Mars', 'Jupiter', 'Saturn', 'Uranus', 'Neptune']\n",
            "[10, 20.0, 'thirty']\n"
          ],
          "name": "stdout"
        }
      ]
    },
    {
      "cell_type": "markdown",
      "metadata": {
        "id": "Edt8fIp0_FzU"
      },
      "source": [
        "We can also define an **empty** list also known as initializing a list. <br/>\n",
        "Let's try this down below"
      ]
    },
    {
      "cell_type": "code",
      "metadata": {
        "id": "bNjOolA__F-2"
      },
      "source": [
        "# DEFINE AN EMPTY LIST AND RUN THIS CELL (SHIFT + ENTER)\n",
        "empty_list = []\n",
        "print(empty_list)"
      ],
      "execution_count": null,
      "outputs": []
    },
    {
      "cell_type": "markdown",
      "metadata": {
        "id": "qaIxGpJK804R"
      },
      "source": [
        "Lists can even contain other lists! Let's take a look below:"
      ]
    },
    {
      "cell_type": "code",
      "metadata": {
        "id": "6_ZewUXg885t",
        "outputId": "6938c18f-e1fd-4a49-fafb-b803f5154863",
        "colab": {
          "base_uri": "https://localhost:8080/",
          "height": 34
        }
      },
      "source": [
        "# DEFINE A 2-DIMENSIONAL LIST AND RUN CELL\n",
        "list_2D = [[1,2], [3,4]] \n",
        "print(list_2D)"
      ],
      "execution_count": null,
      "outputs": [
        {
          "output_type": "stream",
          "text": [
            "[[1, 2], [3, 4]]\n"
          ],
          "name": "stdout"
        }
      ]
    },
    {
      "cell_type": "markdown",
      "metadata": {
        "id": "02nEVN0GKaYx"
      },
      "source": [
        "## 2.1 Indexing \n",
        "We **access items** in a list by using indices \n",
        "* The first index number of a list starts at 0\n",
        "* We can index from the end of the list using negative numbers"
      ]
    },
    {
      "cell_type": "code",
      "metadata": {
        "id": "TsqdBAwLKjJw",
        "outputId": "a699ded2-acb9-4a38-8a37-a84c87d1930b",
        "colab": {
          "base_uri": "https://localhost:8080/",
          "height": 68
        }
      },
      "source": [
        "# RUN THIS CELL TO INDEX A LIST\n",
        "mercury = planets[0]\n",
        "earth = planets[2]\n",
        "farthest_planet = planets[-1]\n",
        "print( \"The closest planet to the sun is\", mercury )\n",
        "print( \"The third planet from the sun is\", earth)\n",
        "print( \"The farthest planet from the sun is:\", farthest_planet)"
      ],
      "execution_count": null,
      "outputs": [
        {
          "output_type": "stream",
          "text": [
            "The closest planet to the sun is Mercury\n",
            "The third planet from the sun is Earth\n",
            "The farthest planet from the sun is: Neptune\n"
          ],
          "name": "stdout"
        }
      ]
    },
    {
      "cell_type": "markdown",
      "metadata": {
        "id": "xjDzNGWX050U"
      },
      "source": [
        "We can __replace__ items in lists using their index. We'll take a look below:"
      ]
    },
    {
      "cell_type": "code",
      "metadata": {
        "id": "GRTiIPVh040s",
        "outputId": "097346ef-40d7-4782-db94-99458aa6693c",
        "colab": {
          "base_uri": "https://localhost:8080/",
          "height": 51
        }
      },
      "source": [
        "# RUN THIS CELL REPLACE THE SECOND ITEM IN mixed_list\n",
        "\n",
        "print(mixed_list)\n",
        "mixed_list[1] = 'twenty'\n",
        "print(mixed_list)"
      ],
      "execution_count": null,
      "outputs": [
        {
          "output_type": "stream",
          "text": [
            "[10.0, 20, 'thirty']\n",
            "[10.0, 'twenty', 'thirty']\n"
          ],
          "name": "stdout"
        }
      ]
    },
    {
      "cell_type": "markdown",
      "metadata": {
        "id": "M3Q4zX_IzJqP"
      },
      "source": [
        "We can also use indices to __slice__ lists. We can specify a range of indices from beginning to end like this:\n",
        "\n",
        "```\n",
        "list_name[i:j]\n",
        "```\n",
        "* The index starts at index i (included) and endS at index j (not included)\n",
        "\n",
        "We'll take a look in the cell below:"
      ]
    },
    {
      "cell_type": "code",
      "metadata": {
        "id": "jfJXIBcW2FjU"
      },
      "source": [
        "# RUN THIS CELL SLICE THE planets LIST\n",
        "closest_planets = planets[0:3]\n",
        "print(\"The closest planets to the sun are:\", closest_planets)"
      ],
      "execution_count": null,
      "outputs": []
    },
    {
      "cell_type": "markdown",
      "metadata": {
        "id": "8SZwsOJx4hsn"
      },
      "source": [
        "We can also slice _from the beginning_ of a list _to an element in the middle of the list_ or _from an element in the middle of a list_ to _the end of a list._ <br/> We can take a look below:"
      ]
    },
    {
      "cell_type": "code",
      "metadata": {
        "id": "sFTdCw6K4iH1",
        "outputId": "99bb3c5f-9981-4bd5-dddc-628bbc819e9d",
        "colab": {
          "base_uri": "https://localhost:8080/",
          "height": 85
        }
      },
      "source": [
        "# RUN THIS CELL TO SLICE THE LIST IN TWO\n",
        "inner_belt = planets[:4]\n",
        "print(\"The planets part of the solar system's inner belt are:\\n\", inner_belt)\n",
        "\n",
        "outer_belt = planets[4:]\n",
        "print(\"The planets part of the solar system's outer belt are:\\n\", outer_belt)"
      ],
      "execution_count": null,
      "outputs": [
        {
          "output_type": "stream",
          "text": [
            "The planets part of the solar system's inner belt are:\n",
            " ['Mercury', 'Venus', 'Earth', 'Mars']\n",
            "The planets part of the solar system's outer belt are:\n",
            " ['Jupiter', 'Saturn', 'Uranus', 'Neptune']\n"
          ],
          "name": "stdout"
        }
      ]
    },
    {
      "cell_type": "markdown",
      "metadata": {
        "id": "xnPn2Kox4h-m"
      },
      "source": [
        "We can also index _from the end of the list_ using a **negative** integer. Let's take a look below:"
      ]
    },
    {
      "cell_type": "code",
      "metadata": {
        "id": "0dAvFMOg4h1L"
      },
      "source": [
        "# RUN THIS CELL TO SLICE THE LIST FROM THE LAST THREE ELEMENTS\n",
        "farthest_planets = planets[-3:]\n",
        "print(\"The farthest planets from the sun are:\", farthest_planets)"
      ],
      "execution_count": null,
      "outputs": []
    },
    {
      "cell_type": "markdown",
      "metadata": {
        "id": "AXDJHXTqKoGk"
      },
      "source": [
        "## 2.2 Adding and Removing Elements\n",
        "We can use the following methods to add and remove elements from lists. We can take a look at how to use them down below\n",
        "* **list_name.append(x)**\n",
        " * Adds item 'x' at the end of the list\n",
        "* **list_name.insert(n,x)**\n",
        " * Insert item 'x' at position of index 'n'\n",
        "* **list_name.remove(n)**\n",
        " * Removes the first occurrence of value 'x' and raises an error if the value is not found\n",
        "* **list_name.pop(n)**\n",
        " * Returns the item at the index 'n' and removes it from the list\n",
        "\n",
        "We'll take a closer look at lists down below by using the ```planets``` list we defined earlier.\n"
      ]
    },
    {
      "cell_type": "code",
      "metadata": {
        "id": "TpZM3r9SKxwl"
      },
      "source": [
        "# Append a new planet to the planets list\n",
        "planets.append('Pluto')\n",
        "print(\"Our newest planet is:\", planets[len(planets) - 1] )"
      ],
      "execution_count": null,
      "outputs": []
    },
    {
      "cell_type": "code",
      "metadata": {
        "id": "5GaO_2RILMM2"
      },
      "source": [
        "# Insert a new planet at the beginning of the planets list\n",
        "planets.insert(0, 'Sun')\n",
        "print(\" The order of the celestial bodies in the solar system is: \", planets)"
      ],
      "execution_count": null,
      "outputs": []
    },
    {
      "cell_type": "code",
      "metadata": {
        "id": "4koj1YtqFnyl"
      },
      "source": [
        "# Remove the first item from the list\n",
        "planets.remove('Sun')\n",
        "print(\"The planets in the solar system are:\", planets)"
      ],
      "execution_count": null,
      "outputs": []
    },
    {
      "cell_type": "code",
      "metadata": {
        "id": "mC80iOBpLMYQ"
      },
      "source": [
        "# Pop the last planet in the planets list\n",
        "dwarf = planets.pop( len(planets) - 1)\n",
        "print(\"{0} is no longer a planet\".format(dwarf))\n"
      ],
      "execution_count": null,
      "outputs": []
    },
    {
      "cell_type": "markdown",
      "metadata": {
        "id": "0l4wwreTKyQA"
      },
      "source": [
        "## 1.3 Additional Methods\n",
        "There are more additional functions which are useful when dealing with lists. We can take a look at some useful ones below: <br/>\n",
        "\n",
        "* **list(**sequence**)** \n",
        " * Returns a list made of a given sequence\n",
        "* **len(**sequence**)**\n",
        " * Returns the number of items in a sequence\n",
        "* **sorted(**sequence**)**\n",
        " * Return a new list containing all items from the iterable in ascending order\n",
        "* **list_name.sort()**\n",
        " * Sorts the items in the list in ascending order\n",
        "\n",
        "\n",
        "\n"
      ]
    },
    {
      "cell_type": "code",
      "metadata": {
        "id": "fh99cJyELBtv",
        "outputId": "ea0d5f5f-41a4-483d-e050-4b41b95db192",
        "colab": {
          "base_uri": "https://localhost:8080/",
          "height": 34
        }
      },
      "source": [
        "# RUN THIS CELL TO SEE HOW THE list() FUNCTION IS USED\n",
        "\n",
        "waterfall_capitol = list('Hamilton')\n",
        "print(waterfall_capitol)\n"
      ],
      "execution_count": null,
      "outputs": [
        {
          "output_type": "stream",
          "text": [
            "['H', 'a', 'm', 'i', 'l', 't', 'o', 'n']\n"
          ],
          "name": "stdout"
        }
      ]
    },
    {
      "cell_type": "code",
      "metadata": {
        "id": "vPzBkn6eg34y",
        "outputId": "79d9a97b-b54d-4607-ac84-a82eaf8e088b",
        "colab": {
          "base_uri": "https://localhost:8080/",
          "height": 34
        }
      },
      "source": [
        "# RUN THIS CELL TO SEE HOW THE len() FUNCTION IS USED\n",
        "n = len(waterfall_capitol)\n",
        "print(\"waterfall_capitol has {0} items in it's list\".format(n))\n"
      ],
      "execution_count": null,
      "outputs": [
        {
          "output_type": "stream",
          "text": [
            "waterfall_capitol has 8 items in it's list\n"
          ],
          "name": "stdout"
        }
      ]
    },
    {
      "cell_type": "code",
      "metadata": {
        "id": "qIaHDbWMLB33",
        "outputId": "e75121cc-ad27-4d34-b87d-0fdc91df4555",
        "colab": {
          "base_uri": "https://localhost:8080/",
          "height": 51
        }
      },
      "source": [
        "# RUN THIS CELL TO SEE HOW THE sorted() FUNCTION IS USED\n",
        "alpha_planets = sorted(planets)\n",
        "print(\"A sorted copy of the planets list:\", alpha_planets)\n",
        "print(\"The planets list remains unsorted:\", planets)"
      ],
      "execution_count": null,
      "outputs": [
        {
          "output_type": "stream",
          "text": [
            "a sorted copy of the planets list: ['Earth', 'Jupiter', 'Mars', 'Mercury', 'Neptune', 'Saturn', 'Uranus', 'Venus']\n",
            "planets list remains unsorted: ['Earth', 'Jupiter', 'Mars', 'Mercury', 'Neptune', 'Saturn', 'Uranus', 'Venus']\n"
          ],
          "name": "stdout"
        }
      ]
    },
    {
      "cell_type": "code",
      "metadata": {
        "id": "7iUyFoZMKoZu",
        "outputId": "7717bb6c-53db-4981-9bcd-b5b5f0506610",
        "colab": {
          "base_uri": "https://localhost:8080/",
          "height": 34
        }
      },
      "source": [
        "# RUN THIS CELL TO USE THE .sort() METHOD\n",
        "planets.sort()\n",
        "print(\"the planets list has been sorted:\", planets)"
      ],
      "execution_count": null,
      "outputs": [
        {
          "output_type": "stream",
          "text": [
            "the planets list has been sorted: ['Earth', 'Jupiter', 'Mars', 'Mercury', 'Neptune', 'Saturn', 'Uranus', 'Venus']\n"
          ],
          "name": "stdout"
        }
      ]
    },
    {
      "cell_type": "markdown",
      "metadata": {
        "id": "ByMdoGj9LoAN"
      },
      "source": [
        "---\n",
        "# 3. Strings\n",
        "\n",
        "**Recall:** Strings are a data structure that hold a sequence of Unicode characters.\n",
        "* They are defined with either single or double quotes\n",
        "* They are similar to a list of characters but are immutable\n",
        "\n",
        "### Escape Characters\n",
        "__Escape characters__ are special characters used to format text \n",
        "> \\\\' Single Quote or Apostrophe <br/>\n",
        "> \\\\\\\\ Backslash <br/>\n",
        "> \\\\n Newline <br/>\n",
        "> \\\\r Carriage Return <br/>\n",
        "> \\\\t Tab <br/>\n",
        "\n",
        "\n",
        "\n",
        "## 3.1 String Methods:  \n",
        "Methods are functions that are performed by specific types of objects. We saw this ealier with the functions we used with lists. String methods provide useful functions to manipulate strings and are exclusive to string objects.\n",
        "\n",
        "* __string_name.lower()__\n",
        "\n",
        " * Return a copy of the string with all the cased characters converted to lowercase\n",
        "\n",
        "* __string_name.upper()__\n",
        "\n",
        " * Return a copy of the string with all the cased characters converted to uppercase\n",
        "\n",
        "* __string_name.split(__ [sep] __)__\n",
        " \n",
        " * Return a list of the words in the string, using *sep* as the\n",
        " delimiter string\n",
        " * The default separator with no argument is *any whitespace character*\n",
        "   * \" \" – space character  \n",
        "   * \" \" – tab character  \n",
        "   * \" \" – newline character  \n",
        "\n",
        "* __string_name.join(__ iterable __)__\n",
        "\n",
        " * Return a string which is the concatenation of the strings in\n",
        "   *iterable*\n",
        "\n",
        "* __string_name.format(__ \\*args, \\*\\*kwargs __)__\n",
        "\n",
        " * Perform a string formatting operation on replacement fields in the\n",
        " string delimited by braces \"{}\"\n",
        " * Each replacement field contains either\n",
        "   the numeric index of a positional argument __(\\*args)__, or the name of a\n",
        "   keyword argument __(\\*\\*kwargs)__.\n"
      ]
    },
    {
      "cell_type": "code",
      "metadata": {
        "id": "_WJMsxhDL9_p"
      },
      "source": [
        "# RUN THIS CELL TO SEE THE .lower() STRING METHOD\n",
        "lower_case = 'QwErTy'.lower()\n",
        "print(lower_case)"
      ],
      "execution_count": null,
      "outputs": []
    },
    {
      "cell_type": "code",
      "metadata": {
        "id": "rgo6J9DEZq7r"
      },
      "source": [
        "# RUN THIS CELL TO SEE THE .upper() STRING METHOD\n",
        "shout = 'hi there'.upper()\n",
        "print(shout)"
      ],
      "execution_count": null,
      "outputs": []
    },
    {
      "cell_type": "code",
      "metadata": {
        "id": "mSJGyfFjZuQt"
      },
      "source": [
        "# RUN THIS CELL TO SEE THE .split() STRING METHOD\n",
        "\n",
        "# Define a string and save the ouput of the .split() method to another variable\n",
        "poem = 'Two roads diverged in a yellow wood' \n",
        "words = poem.split()\n",
        "\n",
        "#  Print at the output of poem.split() and its data type\n",
        "print(words, type(words) )\n",
        "\n",
        "# Pass the .split() method an argument which is different from the default\n",
        "artsy_poem = poem.split('i')\n",
        "print(artsy_poem)"
      ],
      "execution_count": null,
      "outputs": []
    },
    {
      "cell_type": "code",
      "metadata": {
        "id": "SCyecVXOL-Uo"
      },
      "source": [
        "# RUN THIS CELL TO SEE THE .join() STRING METHOD\n",
        "\n",
        "# Use the join method on a string with a space character\n",
        "rainbow = ' '.join(['red', 'orange', 'yellow', 'green', 'blue', 'violet'])\n",
        "print(rainbow)\n",
        "\n",
        "# Try using the .title() string method\n",
        "rainbow_title = rainbow.title()\n",
        "print(rainbow_title)"
      ],
      "execution_count": null,
      "outputs": []
    },
    {
      "cell_type": "code",
      "metadata": {
        "id": "U4vjdhhJL-fT"
      },
      "source": [
        "# RUN THIS CELL TO SEE THE .format() STRING METHOD\n",
        "phrase = 'young, scrappy and hungry'\n",
        "song = \"I'm just like my {place} \\nI'm {0}\".format(phrase, place = 'country')\n",
        "print(song)"
      ],
      "execution_count": null,
      "outputs": []
    },
    {
      "cell_type": "markdown",
      "metadata": {
        "id": "da3fatpvYEfj"
      },
      "source": [
        "We can get more information on __string methods__ by using the Python Help function. We'll briefly take a look down below"
      ]
    },
    {
      "cell_type": "code",
      "metadata": {
        "id": "3Sp0zkTkYEqI"
      },
      "source": [
        "help('STRINGMETHODS')"
      ],
      "execution_count": null,
      "outputs": []
    },
    {
      "cell_type": "markdown",
      "metadata": {
        "id": "MkY2YuzXMNHX"
      },
      "source": [
        "---\n",
        "# 4. For Loops\n",
        "The \"for\" statement is used to iterate over the elements of a sequence\n",
        "(such as a string, tuple or list) or other iterable object. <br/> We can take a closer look down below at how we'll use this.\n",
        "<br/>\n",
        "# 4.0 Computing & Repetition\n",
        "\n",
        "When a computing process is repeated multiple times, we can use a loop to iterate a specific number of times\n",
        "* We can use loops  iterate through the items in a sequence\n",
        "\n",
        "We define the for loop like this: <br/>\n",
        "```\n",
        "for item in sequence:\n",
        "  <statement 1>\n",
        "  <statement 2>\n",
        "  <statement 3>\n",
        "  ...\n",
        "  <statement n>\n",
        "```\n"
      ]
    },
    {
      "cell_type": "code",
      "metadata": {
        "id": "pTQSsyYWMNb4"
      },
      "source": [
        "# RUN THIS CELL TO DEFINE A LIST\n",
        "mammals = ['dog', 'cat', 'platypus', 'squirrel', 'sheep']\n",
        "\n",
        "for animal in mammals:\n",
        "  print(animal)"
      ],
      "execution_count": null,
      "outputs": []
    },
    {
      "cell_type": "markdown",
      "metadata": {
        "id": "pnRo4qtYMo3L"
      },
      "source": [
        "## 4.1 The Range Function\n",
        "\n",
        "The **range([start], stop, [step])** function return an object that produces a sequence of integers from the start (inclusive) to stop (exclusive) by an increment of step. _start_ and _step_ are optional parametes with default values of 0 and 1 respectively.<br/>\n",
        "\n",
        "The range function can be defined like this:\n",
        "\n",
        "```\n",
        "range(stop) \n",
        "range([start], stop) \n",
        "range([start], stop, [step])\n",
        "``` \n",
        "\n",
        "* __start:__ this optional argument is the beginning value of sequence. It's default parameter is 0.\n",
        "* __stop:__ this is the ending value of a sequence\n",
        "* __step:__ increment/decrement between element\n"
      ]
    },
    {
      "cell_type": "code",
      "metadata": {
        "id": "CAKxfX9dM6F8",
        "outputId": "f965c2ab-7c66-4507-db98-e1248517c45d",
        "colab": {
          "base_uri": "https://localhost:8080/",
          "height": 187
        }
      },
      "source": [
        "# RUN THIS CELL TO SEE THE RANGE FUNCTION IN USE WITH STOP\n",
        "for i in range (10):\n",
        "  print(i)"
      ],
      "execution_count": null,
      "outputs": [
        {
          "output_type": "stream",
          "text": [
            "0\n",
            "1\n",
            "2\n",
            "3\n",
            "4\n",
            "5\n",
            "6\n",
            "7\n",
            "8\n",
            "9\n"
          ],
          "name": "stdout"
        }
      ]
    },
    {
      "cell_type": "code",
      "metadata": {
        "id": "pHnPs4pYM6Pn",
        "outputId": "0de2b687-354f-4e87-cd2d-93a4389639d4",
        "colab": {
          "base_uri": "https://localhost:8080/",
          "height": 102
        }
      },
      "source": [
        "# RUN THIS CELL TO SEE THE RANGE FUNCTION IN USE WITH START AND STOP\n",
        "for i in range (5,10):\n",
        "  print(i)"
      ],
      "execution_count": null,
      "outputs": [
        {
          "output_type": "stream",
          "text": [
            "5\n",
            "6\n",
            "7\n",
            "8\n",
            "9\n"
          ],
          "name": "stdout"
        }
      ]
    },
    {
      "cell_type": "code",
      "metadata": {
        "id": "WckYlZtaM6Xl",
        "outputId": "6364008a-76cb-4e33-cc26-44e6e43d3b9d",
        "colab": {
          "base_uri": "https://localhost:8080/",
          "height": 85
        }
      },
      "source": [
        "# RUN THIS CELL TO SEE THE RANGE FUNCTION IN USE WITH START, STOP AND STEP\n",
        "for i in range (2,10,2):\n",
        "  print(i)"
      ],
      "execution_count": null,
      "outputs": [
        {
          "output_type": "stream",
          "text": [
            "2\n",
            "4\n",
            "6\n",
            "8\n"
          ],
          "name": "stdout"
        }
      ]
    },
    {
      "cell_type": "code",
      "metadata": {
        "id": "IlFuJoVXyVvv",
        "outputId": "427f54c1-4e9b-401b-9405-54ebcb0f6e5f",
        "colab": {
          "base_uri": "https://localhost:8080/",
          "height": 102
        }
      },
      "source": [
        "# RUN THIS CELL TO DECREMENT RANGE FUNCTION WITH A NEGATIVE STEP\n",
        "for i in range (20, 10, -2):\n",
        "  print(i)"
      ],
      "execution_count": null,
      "outputs": [
        {
          "output_type": "stream",
          "text": [
            "20\n",
            "18\n",
            "16\n",
            "14\n",
            "12\n"
          ],
          "name": "stdout"
        }
      ]
    },
    {
      "cell_type": "markdown",
      "metadata": {
        "id": "telnPIXiOHTM"
      },
      "source": [
        "## 4.2 Infinite loops\n",
        "For loops can be made to run indefinitely to be used when the number of iterations are unknown. <br/>\n",
        "They can be terminated based on specified conditions or left to run indefinitely. <br/>\n",
        "A few ways for us to make infinite/indefinite for loops are listed below:\n",
        "* A cycle is a sequence that repeats when it reaches the end\n",
        "* We can use \"_from_ iterools _import_ cycle\"\n"
      ]
    },
    {
      "cell_type": "code",
      "metadata": {
        "id": "mV3lAMq5L-Zz"
      },
      "source": [
        "# RUN THIS CELL TO LOOP INDEFINTELY BY REPEATEDLY APPENDING ITEMS TO THE LIST\n",
        "\n",
        "numbers = [1]\n",
        "\n",
        "for num in numbers:\n",
        "  numbers.append(num)\n",
        "  print(num)"
      ],
      "execution_count": null,
      "outputs": []
    },
    {
      "cell_type": "code",
      "metadata": {
        "id": "Uz6RwzPLx9JD"
      },
      "source": [
        "# RUNNING THIS CELL TO CREATE AN INFINITE LOOP BY USING ITERTOOLS \n",
        "from itertools import cycle\n",
        "\n",
        "phrase = ['hi', 'there']\n",
        "\n",
        "for i in cycle(range(2)):\n",
        "  print(phrase[i])"
      ],
      "execution_count": null,
      "outputs": []
    },
    {
      "cell_type": "markdown",
      "metadata": {
        "id": "faRimhqU404M"
      },
      "source": [
        "---\n",
        "# Homework\n",
        "#### **Before this week's lab,** use the following program to answer the quiz on avenue:\n",
        "\n",
        "**Recall**: The Fibonacci Sequence is the series of numbers where each term of the sequence is the sum of the two terms prior. The rule can be described as: <br/> \n",
        "$x_n = x_{n-1} + x_{n-2} $\n",
        "\n",
        "The first ten terms of the sequence are: <br/>\n",
        "$ 0, 1, 1, 2, 3, 5, 8, 13, 21, 34...$\n",
        "<br/>\n",
        "Where each term is the sum of the two terms prior, after the first two terms."
      ]
    },
    {
      "cell_type": "code",
      "metadata": {
        "id": "UyoKPCXgUnQM"
      },
      "source": [
        "# Use this cell to work through quiz questions"
      ],
      "execution_count": null,
      "outputs": []
    },
    {
      "cell_type": "markdown",
      "metadata": {
        "id": "5Pp0CMqryjeP"
      },
      "source": [
        "---\n",
        "# Additional Resources\n",
        "[String Methods](https://docs.python.org/2.5/lib/string-methods.html)\n",
        "\n",
        "[W3 Schools: Python Lists](https://www.w3schools.com/python/python_lists.asp)\n",
        "\n",
        "[W3 Schools: Python List/Array Methods](https://www.w3schools.com/python/python_ref_list.asp)\n",
        "\n",
        "[W3 Schools: Python Strings](https://www.w3schools.com/python/python_strings.asp)\n",
        "\n",
        "[W3 Schools: Python String Methods](https://www.w3schools.com/python/python_ref_string.asp)\n",
        "\n",
        "[W3 Schools: Python For Loops](https://www.w3schools.com/python/python_for_loops.asp)\n",
        "\n",
        "[W3 Schools: Python range() Function](https://www.w3schools.com/python/ref_func_range.asp)"
      ]
    }
  ]
}