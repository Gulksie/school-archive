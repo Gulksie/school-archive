{
 "cells": [
  {
   "cell_type": "markdown",
   "metadata": {
    "id": "GDHyHxYDDQoz"
   },
   "source": [
    "# __Computing Lab *8*__ - _The Object of the Exercise_\n",
    "\n",
    "This week we'll be covering:\n",
    "*   Objects and classes\n",
    "*   Instance variables\n",
    "*   Object methods\n",
    "*   Object instantiation\n",
    "\n",
    "---\n"
   ]
  },
  {
   "cell_type": "markdown",
   "metadata": {
    "id": "qajSJozgCRRu"
   },
   "source": [
    "## Creating a Simple Class and Some Objects\n",
    "\n",
    "Let's create a fairly bare bones class and make some objects from it"
   ]
  },
  {
   "cell_type": "code",
   "execution_count": 1,
   "metadata": {
    "id": "9J80x2vePiEw"
   },
   "outputs": [],
   "source": [
    "#We create classes using the \"class\" keyword\n",
    "\n",
    "\n",
    "    #Attributes can apply to specific instances inside a method we call __init__\n",
    "\n",
    "        \n",
    "        \n",
    "        \n",
    "\n",
    "#We can now create objects with our defined class by calling the class name with some arguments\n",
    "\n",
    "\n",
    "#And it's trivial to extract info from the object using the dot operator\n"
   ]
  },
  {
   "cell_type": "markdown",
   "metadata": {
    "id": "QHFt-WrnoCVX"
   },
   "source": [
    "\n",
    "\n",
    "## Adding Mutators and Accessors to Our Class\n",
    "\n",
    "The function treat() is a mutator that modifies an object's variables. trick() is basically an accessor, though it doesn't *directly* return the object's variable values"
   ]
  },
  {
   "cell_type": "code",
   "execution_count": 2,
   "metadata": {
    "id": "NV9HO75hsmqG"
   },
   "outputs": [],
   "source": [
    "#Methods are functions within classes and define the behvaiour of its objects\n",
    "\n",
    "    #We can have a method that uses attributes of the class to determine its outcome (essentially an accessor)\n",
    "\n",
    "    #We can also have methods that modify attributes (a mutator)\n",
    "\n",
    "#Create our objects again\n",
    "\n",
    "\n",
    "\n",
    "\n",
    "\n",
    "\n",
    "\n",
    "#Note that we could easily copy this class's structure for difference species/breeds \n",
    "#(depending on how you want to set up the class)"
   ]
  },
  {
   "cell_type": "markdown",
   "metadata": {
    "id": "DnBipxAXhjId"
   },
   "source": [
    "## And Another Example\n",
    "\n",
    "Let's define a class that makes objects which are just points on a cartesian plane. \n",
    "\n",
    "We'll need to create a few methods:\n",
    "\n",
    "1. get_x(): returns the x position of the point\n",
    "2. get_y(): returns the y position of the point\n",
    "3. reset(): sets the position (x, y) of the point to (0, 0)\n",
    "4. move(x, y): translates the position of the point by the passes values of x and y in their respective directions\n",
    "5. distance(x, y): returns the distance from the passed coordinates to the position of the point\n",
    "6. polar_position(): returns the polar position of the point\n",
    "\n",
    "we also want to keep track of every position we've been to, so we need to implement that in some method"
   ]
  },
  {
   "cell_type": "code",
   "execution_count": 3,
   "metadata": {},
   "outputs": [],
   "source": [
    "import math\n",
    "\n",
    "\n",
    "    ##Methods\n",
    "\n",
    "    #Accessors\n",
    "\n",
    "    \n",
    "    #Mutators\n"
   ]
  },
  {
   "cell_type": "markdown",
   "metadata": {},
   "source": [
    "## User Interaction\n",
    "\n",
    "Just for fun let's create a way for some user to interact with this class we've made"
   ]
  },
  {
   "cell_type": "code",
   "execution_count": null,
   "metadata": {},
   "outputs": [],
   "source": []
  },
  {
   "cell_type": "markdown",
   "metadata": {
    "id": "BmZUPwYIm2dY"
   },
   "source": [
    "---\n",
    "# Breakout Problem\n"
   ]
  },
  {
   "cell_type": "markdown",
   "metadata": {
    "id": "LZMiyADQm3S2"
   },
   "source": [
    "Create a class to represent a playing card as well as a class to represent a deck of cards. Your classes must contain the following attributes:\n",
    "\n",
    "- Card\n",
    "    - Suit\n",
    "    - Value\n",
    "- Deck\n",
    "    - A list of 52 cards consisting of the following suit and values: \n",
    "        - [\"Clubs\", \"Diamonds\", \"Hearts\", \"Spades\"]\n",
    "        - [\"Ace\", \"2\", \"3\", \"4\", \"5\", \"6\", \"7\", \"8\", \"9\", \"10\", \"Jack\", \"Queen\", \"King\"]\n",
    "        \n",
    "In addition, create the following methods in your classes:\n",
    "- Card\n",
    "    - A getter method to display the card's suit and number\n",
    "- Deck\n",
    "    - A getter method to display all the cards in the deck\n",
    "    - A method to remove a random card from the list. If there are no more cards, return None.\n",
    "    "
   ]
  },
  {
   "cell_type": "code",
   "execution_count": 1,
   "metadata": {},
   "outputs": [],
   "source": [
    "# YOUR CODE HERE\n",
    "from random import choice\n",
    "\n",
    "class Card:\n",
    "    def __init__(self, suit, value):\n",
    "        self.suit = suit\n",
    "        self.value = value\n",
    "\n",
    "    def get_suit(self):\n",
    "        return self.suit\n",
    "\n",
    "    def get_value(self):\n",
    "        return self.value\n",
    "\n",
    "class Deck:\n",
    "    def __init__(self):\n",
    "        self.deck = []\n",
    "        for suit in ['Clubs', 'Diamonds', 'Hearts', 'Spades']:\n",
    "            for card in [\"Ace\", \"2\", \"3\", \"4\", \"5\", \"6\", \"7\", \"8\", \"9\", \"10\", \"Jack\", \"Queen\", \"King\"]:\n",
    "                self.deck.append(Card(suit, card))\n",
    "\n",
    "    def get_cards(self):\n",
    "        return self.deck\n",
    "\n",
    "    def rnd_card(self):\n",
    "        if len(self.deck) == 0:\n",
    "            return None\n",
    "\n",
    "        card = choice(self.deck)\n",
    "        self.deck.remove(card)\n",
    "\n",
    "        return card\n",
    "\n",
    "    "
   ]
  },
  {
   "cell_type": "markdown",
   "metadata": {
    "id": "PGm-2JPXmz7g"
   },
   "source": [
    "---\n",
    "# Additional Resources\n",
    "\n",
    "[w3 Schools: Python Classes and Objects](https://www.w3schools.com/python/python_classes.asp)\n"
   ]
  },
  {
   "cell_type": "code",
   "execution_count": null,
   "metadata": {},
   "outputs": [],
   "source": []
  }
 ],
 "metadata": {
  "colab": {
   "name": "Computing Pre-Lab Notebook #8",
   "provenance": []
  },
  "kernelspec": {
   "name": "python3",
   "display_name": "Python 3.9.0 64-bit",
   "metadata": {
    "interpreter": {
     "hash": "ac59ebe37160ed0dfa835113d9b8498d9f09ceb179beaac4002f036b9467c963"
    }
   }
  },
  "language_info": {
   "codemirror_mode": {
    "name": "ipython",
    "version": 3
   },
   "file_extension": ".py",
   "mimetype": "text/x-python",
   "name": "python",
   "nbconvert_exporter": "python",
   "pygments_lexer": "ipython3",
   "version": "3.9.0-final"
  }
 },
 "nbformat": 4,
 "nbformat_minor": 1
}