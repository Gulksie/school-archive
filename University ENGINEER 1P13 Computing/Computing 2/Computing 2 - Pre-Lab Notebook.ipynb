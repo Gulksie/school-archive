{
 "cells": [
  {
   "cell_type": "markdown",
   "metadata": {
    "colab_type": "text",
    "id": "QNa8iArXtPq4"
   },
   "source": [
    "# __Computing Lab *2*__ - _Form follows function_\n",
    "---\n",
    "# 2. Overview\n",
    "Welcome to another week of 1P13. This week we will be covering _**Functions**_!<br/>\n",
    "\n",
    "* Defining and calling functions\n",
    "\n",
    "* Passing Arguments\n",
    "\n",
    "* Returning Values\n",
    "\n",
    "* Variable Scope\n",
    "\n",
    "<br/>\n",
    "\n",
    "# 2.0 Background\n",
    "Before we start, we'll be using this in today's module:\n",
    "\n",
    "### 2.0.1 Built In Functions Review\n",
    "* Python has many built-in functions such as:\n",
    " * ```eval()```\n",
    " * ```input()``` \n",
    "\n",
    "### 2.0.2 The Eval function\n",
    "\n",
    "The ```eval()``` function evaluates the specified expression passed as an argument and executes it if it is a valid  Python statement.\n",
    "\n",
    "\n"
   ]
  },
  {
   "cell_type": "markdown",
   "metadata": {
    "colab_type": "text",
    "id": "rasMmhQ9b3nB"
   },
   "source": [
    "---\n",
    "# 2.1 Writing your OWN functions\n",
    "To create our own functions, we need to define them. We'll take a look at how to do that below.\n",
    "\n",
    "## 2.1.1 Function definition syntax\n",
    "\n",
    "Our functions are comprised of two parts. The **function header** and the **block**. \n",
    "\n",
    "### **Function Header**\n",
    "```\n",
    "def function_name():\n",
    "```\n",
    "* The _def_ keyword defines the function\n",
    "* The function name is followed by a set of _parantheses_ and a _colon_\n",
    "\n",
    "### **Function Block**\n",
    "```\n",
    "    <statement 1>\n",
    "    <statement 2>...\n",
    "    <statement n>\n",
    "```\n",
    "* A set of staatements that belong as a group\n",
    "* These statements are performed sequentially any time a function is executed\n",
    "* All statemnts in the block **must be indented**\n",
    "\n",
    "Together the function header and function block look like this:\n",
    "```\n",
    "def function_name()\n",
    "    <statement 1>\n",
    "    <statement 2>...\n",
    "    <statement n>\n",
    "```\n",
    "\n",
    "Let's take a look at making our own functions below!"
   ]
  },
  {
   "cell_type": "code",
   "execution_count": null,
   "metadata": {
    "colab": {},
    "colab_type": "code",
    "id": "jW1IdZHzfUkt"
   },
   "outputs": [],
   "source": [
    "# RUN THIS CELL TO DEFINE OUR OWN FUNCTION\n",
    "def really_cool_function():\n",
    "  print(\"It's -30˚C!\")"
   ]
  },
  {
   "cell_type": "markdown",
   "metadata": {
    "colab_type": "text",
    "id": "_-PEkvYVKjz-"
   },
   "source": [
    "### __Calling a Function__\n",
    "The **function definition** specifies what a function does, but does not execute the function! We neeed to _call_ a function if we want it to run.\n",
    "<br/>\n",
    "Let's call the function we defined in the cell above below:\n"
   ]
  },
  {
   "cell_type": "code",
   "execution_count": null,
   "metadata": {
    "colab": {},
    "colab_type": "code",
    "id": "TgI0lvQQLGJu"
   },
   "outputs": [],
   "source": [
    "# RUN THIS CELL TO CALL really_cool_function()\n",
    "really_cool_function()"
   ]
  },
  {
   "cell_type": "markdown",
   "metadata": {
    "colab_type": "text",
    "id": "D1HzpMbDfhJF"
   },
   "source": [
    "### __Calling a Function... Explained__\n",
    "\n",
    "When we call a function:\n",
    "* The program execution is suspended\n",
    "* The interpreter jumps to the function that was called\n",
    " * The statements in its block are executed\n",
    "* The interpretter jumps back to the part of the program that called the function\n",
    "* The program resumes execution\n"
   ]
  },
  {
   "cell_type": "code",
   "execution_count": null,
   "metadata": {
    "colab": {},
    "colab_type": "code",
    "id": "zdU_zWnFJ1l4"
   },
   "outputs": [],
   "source": [
    "# RUN THIS CELL\n",
    "print(\"I wonder what the weather's like\")\n",
    "really_cool_function()\n",
    "print(\"Burrrr\")"
   ]
  },
  {
   "cell_type": "markdown",
   "metadata": {
    "colab_type": "text",
    "id": "aLkKXM4jfg6b"
   },
   "source": [
    "## 2.1.2 Arguments & Parameters\n",
    "\n",
    "### Passing Arguments to Functions\n",
    "We can pass one or more pieces of data into the function using parameter variables.\n",
    "* We can send in these pieces of data known as  **arguments**\n",
    "* The function uses **arguments** in calculation or other operations within the function\n",
    "```\n",
    "def function_name(p1, p2, ..., pm)\n",
    "    <statement 1>\n",
    "    <statement 2>...\n",
    "    <statement n>\n",
    "```\n",
    "\n",
    "The $p_1, …, p_m$ are the **parameter values** of the function defintion\n",
    "* They represent the _inputs to the function_\n",
    "* The **parameter values** are assigned the value of the arguments"
   ]
  },
  {
   "cell_type": "code",
   "execution_count": null,
   "metadata": {
    "colab": {},
    "colab_type": "code",
    "id": "p6KQSiSlfUfa"
   },
   "outputs": [],
   "source": [
    "# RUN THIS CELL FIRST\n",
    "def enroll_course(course, section):\n",
    "  print(\"Hello, this is Mosaic\")\n",
    "  print(\"Looking to enroll in \",section, \"of\", course)\n",
    "  print(\"\")"
   ]
  },
  {
   "cell_type": "code",
   "execution_count": null,
   "metadata": {
    "colab": {},
    "colab_type": "code",
    "id": "pFDfdHQbpguU"
   },
   "outputs": [],
   "source": [
    "# RUN THIS CELL SECOND\n",
    "your_course = input(\"Please enter course to enroll in:\")\n",
    "your_section = input(\"Please enter section to enroll in:\")\n",
    "enroll_course(your_course, your_section)"
   ]
  },
  {
   "cell_type": "markdown",
   "metadata": {
    "colab_type": "text",
    "id": "oQlBgCG0qTFi"
   },
   "source": [
    "#### _Let's break this down_:\n",
    "```\n",
    "def enroll_course(course, section):\n",
    "```\n",
    "In our function defintion, _course_ and _section_ are **parameter variables**. <br>\n",
    "```\n",
    "enroll_course(your_course, your_section)\n",
    "```\n",
    "In our function call, _your\\_course_ and _your\\_section_ are **arguments** passed to the function."
   ]
  },
  {
   "cell_type": "markdown",
   "metadata": {
    "colab_type": "text",
    "id": "68YRRcdxeTxv"
   },
   "source": [
    "---\n",
    "# 2.2 Returning Values\n",
    "\n",
    "## 2.2.1 The Return Statement\n",
    "* Functions can send data back when you call them using a return statement\n",
    "* If NO return statement is written, the function will return a special object called **None**\n",
    "\n",
    "When the function is finished, it returns a value back to the part of the program that called it. This is the **output of the function**\n",
    "\n",
    "```\n",
    "def function_name()\n",
    "    <statement 1>\n",
    "    <statement 2>...\n",
    "    <statement n>\n",
    "    return <expression>\n",
    "```\n",
    "Let's try making our own below!\n"
   ]
  },
  {
   "cell_type": "code",
   "execution_count": null,
   "metadata": {
    "colab": {},
    "colab_type": "code",
    "id": "MuAnS0QMfN-q"
   },
   "outputs": [],
   "source": [
    "# WRITE A CALCULATE THE AREA OF A RECTANGLE\n",
    "'''\n",
    "Inputs: length, width as either a float or int\n",
    "\n",
    "Return: The area of the rectangle as a number\n",
    "'''\n",
    "\n",
    "def calc_area(length, width):\n",
    "  area = length * width\n",
    "  return area"
   ]
  },
  {
   "cell_type": "markdown",
   "metadata": {
    "colab_type": "text",
    "id": "nwwZ5uXAyBl6"
   },
   "source": [
    "### Returning Multiple Values\n",
    "* Sometimes a function may need to return more than one value.\n",
    "* We can bind the returned values to variables using a simultaneous assignment statement\n",
    "<br>\n",
    "\n",
    "Let's take a look at this below:"
   ]
  },
  {
   "cell_type": "code",
   "execution_count": null,
   "metadata": {
    "colab": {},
    "colab_type": "code",
    "id": "jNthsI6DyRVn"
   },
   "outputs": [],
   "source": [
    "# RUN THIS CELL TO DEFINE OUR SECOND AND THIRD FUNCTION\n",
    "def calc_perimeter(length, width):\n",
    "  perimeter = 2*length + 2* width\n",
    "  return perimeter\n",
    "\n",
    "def calc_geometry(length, width):\n",
    "  perimeter = calc_perimeter(length, width)\n",
    "  area = calc_area(length, width)\n",
    "  return area, perimeter"
   ]
  },
  {
   "cell_type": "code",
   "execution_count": null,
   "metadata": {
    "colab": {
     "base_uri": "https://localhost:8080/",
     "height": 34
    },
    "colab_type": "code",
    "executionInfo": {
     "elapsed": 541,
     "status": "ok",
     "timestamp": 1591973777677,
     "user": {
      "displayName": "Thomas Kean",
      "photoUrl": "",
      "userId": "16781136101659541229"
     },
     "user_tz": 240
    },
    "id": "2hSQ0vYJyY_t",
    "outputId": "016a4c63-374c-49b8-8a2d-cc25cb894377"
   },
   "outputs": [
    {
     "name": "stdout",
     "output_type": "stream",
     "text": [
      "The area of the square is 4 & perimeter  is 8\n"
     ]
    }
   ],
   "source": [
    "# RUN THIS CELL TO CALL OUR CALC GEOMETRY FUNCTION\n",
    "l = 2\n",
    "w = 2\n",
    "area_sq, perimeter_sq = calc_geometry(l, w)\n",
    "print(\"The area of the square is\", area_sq, \"& perimeter is\", perimeter_sq)\n"
   ]
  },
  {
   "cell_type": "code",
   "execution_count": null,
   "metadata": {
    "colab": {
     "base_uri": "https://localhost:8080/",
     "height": 34
    },
    "colab_type": "code",
    "executionInfo": {
     "elapsed": 575,
     "status": "ok",
     "timestamp": 1591973794911,
     "user": {
      "displayName": "Thomas Kean",
      "photoUrl": "",
      "userId": "16781136101659541229"
     },
     "user_tz": 240
    },
    "id": "0QCWAQehBsTk",
    "outputId": "73369f07-cf60-489b-de0d-c20a05334c5c"
   },
   "outputs": [
    {
     "name": "stdout",
     "output_type": "stream",
     "text": [
      "The area of the square is 12 & perimeter  is 14\n"
     ]
    }
   ],
   "source": [
    "# Alternatively, assigning the result of a multiple return function to one variable returns a tuble\n",
    "a = 3\n",
    "b = 4\n",
    "result = calc_geometry(a, b)\n",
    "print(\"The area of the square is\", result[0], \"& perimeter is\", result[1])"
   ]
  },
  {
   "cell_type": "markdown",
   "metadata": {
    "colab_type": "text",
    "id": "9667R3S5fOO_"
   },
   "source": [
    "## 2.2.2 Returning None\n",
    "Void functions are functions without a return statement. By default they return a value of ```None``` from the function. "
   ]
  },
  {
   "cell_type": "code",
   "execution_count": null,
   "metadata": {
    "colab": {},
    "colab_type": "code",
    "id": "Y2bTrxdwoz-L"
   },
   "outputs": [],
   "source": [
    "# RUN THIS CELL TO RETURN NONE FROM A FUNCTION BY DEFAULT\n",
    "def song():\n",
    "  print(\"La La La\")\n",
    "\n",
    "lyrics = song()"
   ]
  },
  {
   "cell_type": "code",
   "execution_count": null,
   "metadata": {
    "colab": {},
    "colab_type": "code",
    "id": "gOZi6HBuo0Eq"
   },
   "outputs": [],
   "source": [
    "print(lyrics)"
   ]
  },
  {
   "cell_type": "markdown",
   "metadata": {
    "colab_type": "text",
    "id": "e5AaiIu0o4On"
   },
   "source": [
    "We can also explicitly return a value of None. Let's take a look below!"
   ]
  },
  {
   "cell_type": "code",
   "execution_count": null,
   "metadata": {
    "colab": {},
    "colab_type": "code",
    "id": "YaxKZKkXfHlh"
   },
   "outputs": [],
   "source": [
    "# RUN THIS CELL TO RETURN NONE FROM A FUNCTION BY DEFAULT\n",
    "def sing():\n",
    "  print(\"do re mi\")\n",
    "  return None\n",
    "\n",
    "best_song_ever = sing()"
   ]
  },
  {
   "cell_type": "code",
   "execution_count": null,
   "metadata": {
    "colab": {},
    "colab_type": "code",
    "id": "EZhiePxMnkd5"
   },
   "outputs": [],
   "source": [
    "print(best_song_ever)"
   ]
  },
  {
   "cell_type": "markdown",
   "metadata": {
    "colab_type": "text",
    "id": "Fy0Vsp1NedTF"
   },
   "source": [
    "---\n",
    "# 2.3 Variable scope\n",
    "\n",
    "## 2.3.1 Local Variables\n",
    "\n",
    "### **Namespaces**\n",
    "A **namespace** is a space that holds a bunch of names.\n",
    "* Eace Namespace is isolated\n",
    "* Each Module has it's own namesace\n",
    "* Each Function has its own namespace\n",
    "\n",
    "You can use certain pieces of data from one Module's namespace in another by umporting their names\n",
    "```\n",
    "e.g. import math, import random, etc,\n",
    "```\n",
    "\n",
    "### **Scope**\n",
    "**Scope** is the region of a program where a namespace is accessible.\n",
    "\n",
    "* The variables used inside of one function are local to that function.\n",
    "* This is true even if a variable has the same name as a variable inside of another function.\n",
    "* A function may have read access to a variable in the function that called it.\n",
    "* A function does not have write access to a variable in another function.\n"
   ]
  },
  {
   "cell_type": "code",
   "execution_count": null,
   "metadata": {
    "colab": {},
    "colab_type": "code",
    "id": "w7cZBXd2Gp1P"
   },
   "outputs": [],
   "source": [
    "# RUN THIS CELL TO CHECKOUT VARIABLES LOCAL TO THIS FUNCTION\n",
    "def favourite_show():\n",
    "  name = \"Monty Python's Flying Circus\"\n",
    "  print(x)\n",
    "\n",
    "favourite_show()"
   ]
  },
  {
   "cell_type": "code",
   "execution_count": null,
   "metadata": {
    "colab": {},
    "colab_type": "code",
    "id": "SqJJzXk3ftKx"
   },
   "outputs": [],
   "source": [
    "def favourite_show():\n",
    "  name = \"Monty Python's Flying Circus\"\n",
    "\n",
    "  def inner_func():\n",
    "    print(name)\n",
    "  myinner_func()\n",
    "\n",
    "favourite_show()"
   ]
  },
  {
   "cell_type": "markdown",
   "metadata": {
    "colab_type": "text",
    "id": "Ryq9QZSdGp-F"
   },
   "source": [
    "### **Local Variables**\n",
    "Anytime you assign a value to a variable insde a function, you create a local variable.\n",
    "<br/>\n",
    "A **local variable** belongs to the function in which it is created. They're declared **inside** functions\n",
    "* Only statements insde that function can access it\n",
    "* A local variable's _scope_ is the function which the variable is created\n",
    " * Other functions may have their own local varibales with the same name\n"
   ]
  },
  {
   "cell_type": "code",
   "execution_count": null,
   "metadata": {
    "colab": {},
    "colab_type": "code",
    "id": "cklMbBUvEw09"
   },
   "outputs": [],
   "source": [
    "#FIX THIS CELL\n",
    "'''\n",
    "Fix this cell to print the local variable stored inside the salad() function\n",
    "'''\n",
    "# Given\n",
    "def salad():\n",
    "  veggies = 'lettuce'\n",
    "\n",
    "print(veggies)\n",
    "\n",
    "# Solution\n",
    "'''\n",
    "def salad():\n",
    "  veggies = 'lettuce'\n",
    "  print(veggies)\n",
    "\n",
    "salad()\n",
    "'''"
   ]
  },
  {
   "cell_type": "markdown",
   "metadata": {
    "colab_type": "text",
    "id": "zXPD1tiGEw_3"
   },
   "source": [
    "### **Global Variables**\n",
    "Variables declared **outside** functions are called global\n",
    "* Read access available everywhere in code\n",
    "\n",
    "* Variables may have read access but not write access (mutable) \n",
    "* Global variables changed inside the function will only be changed inside the function\n",
    "* Changes are not reflected outside (unless you use keyword ```global``` inside the function)"
   ]
  },
  {
   "cell_type": "code",
   "execution_count": null,
   "metadata": {
    "colab": {},
    "colab_type": "code",
    "id": "eLR8Ew71c4jy"
   },
   "outputs": [],
   "source": [
    "# RUN CELL\n",
    "dog = \"woof\"\n",
    "\n",
    "def bark():\n",
    "  print(dog)\n",
    "\n",
    "bark()"
   ]
  },
  {
   "cell_type": "markdown",
   "metadata": {
    "colab_type": "text",
    "id": "QltXLx-nsKr2"
   },
   "source": [
    "When a variable is created inside a function, that variable can only be used inside that function as a local variable.\n",
    "\n",
    "We can create and/or edit a global variable inside a function using the ```global``` keyword."
   ]
  },
  {
   "cell_type": "code",
   "execution_count": null,
   "metadata": {
    "colab": {
     "base_uri": "https://localhost:8080/",
     "height": 51
    },
    "colab_type": "code",
    "executionInfo": {
     "elapsed": 300,
     "status": "ok",
     "timestamp": 1592837331325,
     "user": {
      "displayName": "Thomas Kean",
      "photoUrl": "",
      "userId": "16781136101659541229"
     },
     "user_tz": 240
    },
    "id": "XSZ9CIhaET0M",
    "outputId": "15370d40-e81a-4b06-f9fa-f8f213aee99b"
   },
   "outputs": [
    {
     "name": "stdout",
     "output_type": "stream",
     "text": [
      "meow\n",
      "woof\n"
     ]
    }
   ],
   "source": [
    "# FIX THIS CELL\n",
    "'''\n",
    "Make the changes to the dog variable in bark() available in the global scope\n",
    "'''\n",
    "\n",
    "dog = \"woof\"\n",
    "\n",
    "def bark():\n",
    "  dog = \"meow\"\n",
    "  print(dog)\n",
    "\n",
    "bark()\n",
    "print(dog)"
   ]
  },
  {
   "cell_type": "markdown",
   "metadata": {
    "colab_type": "text",
    "id": "96KUcVG3WWi2"
   },
   "source": [
    "### 2.3.2 Scope Takeaways\n",
    "1. Global variables can have their VALUES read inside a function​\n",
    "\n",
    "1. Global variables are not normally write accessible inside a function​\n",
    "\n",
    "1. Passing a global variable into a function makes a new local variable inside the function (changing this value doesn’t change the global variable)​\n",
    "\n",
    "1. Local variables and global variables of the same name are not related (do not hold same values)​\n",
    "\n",
    "1. Use keyword ```global``` to gain read AND write access to global variables inside functions"
   ]
  },
  {
   "cell_type": "markdown",
   "metadata": {
    "colab_type": "text",
    "id": "faRimhqU404M"
   },
   "source": [
    "---\n",
    "#Homework\n",
    "**Before this week's lab,** complete the following exercise:\n",
    "<br/>"
   ]
  },
  {
   "cell_type": "code",
   "execution_count": 1,
   "metadata": {
    "colab": {
     "base_uri": "https://localhost:8080/",
     "height": 334
    },
    "colab_type": "code",
    "executionInfo": {
     "elapsed": 546,
     "status": "error",
     "timestamp": 1592854244507,
     "user": {
      "displayName": "Thomas Kean",
      "photoUrl": "",
      "userId": "16781136101659541229"
     },
     "user_tz": 240
    },
    "id": "LqHMXhjr7ddo",
    "outputId": "13623f90-4906-47df-deb2-7c0b2cbaa590"
   },
   "outputs": [
    {
     "output_type": "stream",
     "name": "stdout",
     "text": [
      "987654321\n"
     ]
    }
   ],
   "source": [
    "'''\n",
    "Use the following code to answer the pre-lab quiz on avenue\n",
    "'''\n",
    "\n",
    "\n",
    "# Solution\n",
    "student_number = 123456789\n",
    "\n",
    "def new_student_number(num):\n",
    "    global student_number  \n",
    "    student_number = num\n",
    "\n",
    "new_student_number(987654321)\n",
    "print(student_number)\n"
   ]
  },
  {
   "cell_type": "markdown",
   "metadata": {
    "colab_type": "text",
    "id": "5Pp0CMqryjeP"
   },
   "source": [
    "---\n",
    "## Additional Resources\n",
    "[Python Functions](https://www.w3schools.com/python/python_functions.asp)\n",
    "\n",
    "\n",
    "[Learn Python: Functions](https://www.learnpython.org/en/Functions)\n",
    "\n",
    "\n",
    "[Eval() Function](https://www.w3schools.com/python/ref_func_eval.asp)\n",
    "\n",
    "[Python Global Variables](https://www.w3schools.com/python/gloss_python_global_variables.asp)\n",
    "\n",
    "[Python Scope](https://www.w3schools.com/python/python_scope.asp)\n",
    "\n",
    "\n"
   ]
  }
 ],
 "metadata": {
  "colab": {
   "collapsed_sections": [],
   "name": "Computing Online Module #2",
   "provenance": [
    {
     "file_id": "1DI6bEd6voCjHcvRqnQ-UZP4q6M5GwcvT",
     "timestamp": 1591628557301
    }
   ]
  },
  "kernelspec": {
   "name": "Python 3.8.2 32-bit",
   "display_name": "Python 3.8.2 32-bit",
   "metadata": {
    "interpreter": {
     "hash": "19f9c55c269f5a0d491492c337ff72d161c925164052b8f71974adb7d23217ea"
    }
   }
  },
  "language_info": {
   "codemirror_mode": {
    "name": "ipython",
    "version": 3
   },
   "file_extension": ".py",
   "mimetype": "text/x-python",
   "name": "python",
   "nbconvert_exporter": "python",
   "pygments_lexer": "ipython3",
   "version": "3.8.2-final"
  }
 },
 "nbformat": 4,
 "nbformat_minor": 1
}