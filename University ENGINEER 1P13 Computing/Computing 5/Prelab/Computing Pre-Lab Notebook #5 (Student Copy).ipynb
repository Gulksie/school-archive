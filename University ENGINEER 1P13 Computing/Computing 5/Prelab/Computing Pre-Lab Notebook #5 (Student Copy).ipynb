{
 "cells": [
  {
   "cell_type": "markdown",
   "metadata": {
    "colab_type": "text",
    "id": "LQPzDZ4y4M65"
   },
   "source": [
    "# __Computing Lab *5*__ - _In and Out_\n",
    "---\n",
    "# 1. Overview\n",
    "Welcome back to another computing lab! This week we will be covering __*Files*__!<br/>\n",
    "\n",
    "Today we will cover:\n",
    "* Opening/closing files \n",
    "* Reading from files (Methods) \n",
    "* Reading from file using For Loop \n",
    "* Writing to files (Methods) "
   ]
  },
  {
   "cell_type": "markdown",
   "metadata": {
    "colab_type": "text",
    "id": "0qefzO7i5v38"
   },
   "source": [
    "---\n",
    "# 2. Opening/Closing files \n",
    "We can use Python to open files using the built-in function ```open(filename, access_mode)```.<br/> The `open()` function returns a file object which can use to access and minipulate files. \n",
    "<br/>\n",
    "The **filename** is the name of file which is in the same directory (folder) as the notebook.\n",
    "\n",
    "We specify the mode in which we access files using the **access_mode** parameter. Included below are the various string parameters we will use to specify the mode the `open()` function interacts with files. \n",
    "* **r:** Opens a file for reading only\n",
    "* **r+:** Opens a file for both reading and writing\n",
    "* **w:** Opens a file for writing only\n",
    "* **w+:** Open a file for writing and reading.\n",
    "* **a:** Opens a file for appending\n",
    "* **a+:** Opens a file for both appending and reading\n"
   ]
  },
  {
   "cell_type": "code",
   "execution_count": 1,
   "metadata": {},
   "outputs": [
    {
     "output_type": "stream",
     "name": "stdout",
     "text": [
      "Hello!\n\n"
     ]
    }
   ],
   "source": [
    "# RUN THIS CELL TO OPEN demo.txt\n",
    "f = open(\"demo.txt\", \"r\")\n",
    "\n",
    "# Print the first line of demo.txt\n",
    "print(f.readline())"
   ]
  },
  {
   "cell_type": "markdown",
   "metadata": {},
   "source": [
    "## 2.1 Closing Files\n",
    "It is importat to close files once we are done using it. This tells python we are finished using the file and it frees memory in the computer.\n",
    "<br/>\n",
    "We close the file using the `.close()` method from our file object"
   ]
  },
  {
   "cell_type": "code",
   "execution_count": 2,
   "metadata": {
    "colab": {},
    "colab_type": "code",
    "id": "BmqDiaWu57dA"
   },
   "outputs": [],
   "source": [
    "# RUN THIS CELL TO CLOSE demo.txt\n",
    "f.close()"
   ]
  },
  {
   "cell_type": "markdown",
   "metadata": {
    "colab_type": "text",
    "id": "Bck9osfE5-w4"
   },
   "source": [
    "---\n",
    "# 3. Reading From Files \n",
    "Once we have opened a file, we can read the file using the `.read()` function. We'll take a look at how to do this below.\n"
   ]
  },
  {
   "cell_type": "code",
   "execution_count": 3,
   "metadata": {
    "colab": {},
    "colab_type": "code",
    "id": "-JYHrwBP5_AT"
   },
   "outputs": [
    {
     "output_type": "stream",
     "name": "stdout",
     "text": [
      "Hello!\nThis is our demo file :)\n"
     ]
    }
   ],
   "source": [
    "# RUN THIS READ THE CONTENTS OF demo.txt\n",
    "f = open(\"demo.txt\", \"r\")\n",
    "print(f.read())\n",
    "f.close()"
   ]
  },
  {
   "cell_type": "markdown",
   "metadata": {},
   "source": [
    "The `.read()` function returns the entire contents of the file. This is not always the most useful to us when working with file inputs. We can also use the `.readline()` method to read one line at a time\n"
   ]
  },
  {
   "cell_type": "code",
   "execution_count": 4,
   "metadata": {},
   "outputs": [
    {
     "output_type": "stream",
     "name": "stdout",
     "text": [
      "Line 1:\nLine 2:\n"
     ]
    }
   ],
   "source": [
    "# RUN THIS CELL TO READ THE FIRST TWO LINES of demo.txt\n",
    "f = open(\"demo.txt\", \"r\")\n",
    "\n",
    "# Print the first line of demo.txt\n",
    "print(\"Line 1:\")\n",
    "\n",
    "# Print the next line in demo.txt\n",
    "print(\"Line 2:\")\n",
    "\n",
    "f.close()"
   ]
  },
  {
   "cell_type": "markdown",
   "metadata": {},
   "source": [
    "The `.readline()` function reads the first line of the file until a newline character is reached or the end of file is reached. <br/>"
   ]
  },
  {
   "cell_type": "markdown",
   "metadata": {
    "colab_type": "text",
    "id": "qxFQ_KVa6KHx"
   },
   "source": [
    "---\n",
    "# 4. Looping Through Files \n",
    "We can use the `.readlines()` function to read the entire file and return a list of each line. We can iterate through this list using a _for-loop_."
   ]
  },
  {
   "cell_type": "code",
   "execution_count": null,
   "metadata": {
    "colab": {},
    "colab_type": "code",
    "id": "JlL2DGyb6KY2"
   },
   "outputs": [],
   "source": [
    "# RUN THIS CELL TO PRINT A LIST OF ALL THE LINES IN demo.txt\n",
    "f = open(\"demo.txt\", \"r\")\n",
    "\n",
    "# Print a list of the lines in demo.txt\n",
    "\n",
    "\n",
    "# Iterate through each line \n",
    "\n",
    "\n",
    "f.close()"
   ]
  },
  {
   "cell_type": "markdown",
   "metadata": {
    "colab_type": "text",
    "id": "43og-nNv6KhX"
   },
   "source": [
    "---\n",
    "# 5. Writing Through Files \n",
    "As we mentioned earlier, we specify whether we want to open the files in read, write, or append mode. So far, we have only read files in read mode. We will take a look at some of the other open modes beblow\n",
    "<br/>\n",
    "\n",
    "When we open files using `open(filename, access_mode)`, we can use the following **access modes** to specify whether we want to write to the file or append to the file\n",
    "\n",
    "* **w:** Opens a file for writing only\n",
    "* **w+:** Open a file for writing and reading\n",
    "* **a:** Opens a file for appending\n",
    "* **a+:** Opens a file for both appending and reading\n",
    "<br/>\n",
    "\n",
    "**Note:** The \"w\" and \"w+\" modes overwrite the existing file."
   ]
  },
  {
   "cell_type": "code",
   "execution_count": null,
   "metadata": {
    "colab": {},
    "colab_type": "code",
    "id": "4zXAGorW6Kn9"
   },
   "outputs": [],
   "source": [
    "# RUN THIS CELL TO CREATE A FILE WRITE-ONLY MODE\n",
    "f = open(\"demo2.txt\",\"w\")\n",
    "\n",
    "# Write to the file\n",
    "\n",
    "\n",
    "# Let's read from our file\n",
    "\n",
    "\n",
    "f.close()"
   ]
  },
  {
   "cell_type": "markdown",
   "metadata": {},
   "source": [
    "## 5.1 The seek function\n",
    "In Python, the `.seek()` function changes the position of the File Handle to a given specific position. We can think of the file handle like a cursor, which defines where data is read or written in the file.\n",
    "<br/>\n",
    "\n",
    "We'll try using this in the cell below:"
   ]
  },
  {
   "cell_type": "code",
   "execution_count": 7,
   "metadata": {},
   "outputs": [
    {
     "output_type": "stream",
     "name": "stdout",
     "text": [
      "aaa\n"
     ]
    }
   ],
   "source": [
    "# RUN THIS CELL TO OPEN demo2.txt, THEN WRITE AND READ FROM THE FILE\n",
    "f = open(\"demo2.txt\",\"w+\")\n",
    "\n",
    "# Write\n",
    "f.write(\"aaa\")\n",
    "\n",
    "\n",
    "# Important: return to the top of the file before reading, \n",
    "# otherwise you'll just read an empty string after writing to the file\n",
    "f.seek(0)\n",
    "content = f.readline()\n",
    "print(content)\n",
    "\n",
    "\n",
    "f.close()"
   ]
  },
  {
   "cell_type": "markdown",
   "metadata": {},
   "source": [
    "Lastly, we will try using the **append** access_mode below."
   ]
  },
  {
   "cell_type": "code",
   "execution_count": 8,
   "metadata": {},
   "outputs": [
    {
     "output_type": "stream",
     "name": "stdout",
     "text": [
      "aaaRock Paper Scissiors\n"
     ]
    }
   ],
   "source": [
    "# RUN THIS CELL TO OPEN A FILE APPEND MODE\n",
    "f = open(\"demo2.txt\",\"a+\")\n",
    "\n",
    "# Write to the file\n",
    "f.write(\"Rock Paper Scissiors\")\n",
    "\n",
    "\n",
    "# Read the file\n",
    "f.seek(0)\n",
    "print(f.read())\n",
    "\n",
    "f.close()"
   ]
  },
  {
   "cell_type": "markdown",
   "metadata": {
    "colab_type": "text",
    "id": "0MoN6f086Ys6"
   },
   "source": [
    "---\n",
    "# Pre-lab Homework\n",
    "**Before this week's lab,** use the following cell to complete the Pre-lab homework quiz on Avenue."
   ]
  },
  {
   "cell_type": "code",
   "execution_count": null,
   "metadata": {
    "colab": {},
    "colab_type": "code",
    "id": "qXkYUAta6YHg"
   },
   "outputs": [],
   "source": [
    "# USE THIS CELL TO TEST CODE"
   ]
  },
  {
   "cell_type": "markdown",
   "metadata": {
    "colab_type": "text",
    "id": "ozSkfhWk6YSu"
   },
   "source": [
    "---\n",
    "\n",
    "# Additional Resources\n",
    "[Input and Output](https://docs.python.org/3/tutorial/inputoutput.html)\n",
    "\n",
    "[W3 Schools: Python File Handling](https://www.w3schools.com/python/python_file_handling.asp)\n",
    "\n",
    "[W3 Schools: Python File Open](https://www.w3schools.com/python/python_file_open.asp)\n",
    "\n",
    "[W3 Schools: Python File Write](https://www.w3schools.com/python/python_file_write.asp)\n",
    "\n",
    "[Geeks for Geeks: File Objects in Python](https://www.geeksforgeeks.org/file-objects-python/)\n",
    "\n",
    "[Geeks for Geeks: Python seek() Function](https://www.geeksforgeeks.org/python-seek-function/)"
   ]
  }
 ],
 "metadata": {
  "colab": {
   "authorship_tag": "ABX9TyMp7evPN3P6aMZYCBTe8OtK",
   "name": "Computing Pre-Lab Notebook #5",
   "provenance": []
  },
  "kernelspec": {
   "name": "python3",
   "display_name": "Python 3.9.0 64-bit",
   "metadata": {
    "interpreter": {
     "hash": "ac59ebe37160ed0dfa835113d9b8498d9f09ceb179beaac4002f036b9467c963"
    }
   }
  },
  "language_info": {
   "codemirror_mode": {
    "name": "ipython",
    "version": 3
   },
   "file_extension": ".py",
   "mimetype": "text/x-python",
   "name": "python",
   "nbconvert_exporter": "python",
   "pygments_lexer": "ipython3",
   "version": "3.9.0-final"
  }
 },
 "nbformat": 4,
 "nbformat_minor": 1
}