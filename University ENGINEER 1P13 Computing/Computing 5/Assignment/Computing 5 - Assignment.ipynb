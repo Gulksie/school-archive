{
 "cells": [
  {
   "cell_type": "markdown",
   "metadata": {
    "colab_type": "text",
    "id": "qwLGahydX5SB"
   },
   "source": [
    "# Computing 5 Assignment\n",
    "\n"
   ]
  },
  {
   "cell_type": "markdown",
   "metadata": {
    "colab_type": "text",
    "id": "7ti8TYwYX5NI"
   },
   "source": [
    "---\n",
    "## Background\n",
    "\n",
    "In this assignment you will be implementing a set of functions used in conjunction to form a website login system. Your system will utilize a text file for storing, retrieving, and verifying user credentials. We identify users based on their **username** and **password**. For simplicity we assume that usernames and passwords only contain alphanumeric characters. Alphanumeric characters represent the numbers **0-9** and the letters **A-Z** (both uppercase and lowercase). Usernames and passwords are case sensitive and must contain **at least 6** characters. Usernames must be unique.\n",
    "\n",
    "Each username and password combination will be stored on its own line in the text file. Each line in the text file has the following format:\n",
    "\n",
    "\n",
    "<br>\n",
    "\\begin{align}\n",
    "  \\texttt{username\\tpassword\\n}\\tag{1}\n",
    "\\end{align}\n",
    "<br>\n",
    "\n",
    "More explicitly, each line in the text file will contain a user’s username, a tab character, and that user’s password followed by the newline character. Please note that when opening the text file for viewing you will not explicitly see the **\\t** and **\\n** characters.\n",
    "\n",
    "\n",
    "In your implementation, usernames and passwords will be stored as plain text. This means that all usernames and passwords can easily be compromised if access to the text file is provided. This is extremely dangerous in the real world and poses huge security issues. In practicality, passwords are encrypted before stored so that they are not easily identifiable in the event of a data breach. Thus, please do not use any real passwords when developing and testing your program. \n",
    "\n",
    "The following section contains additional information that will assist in implementing your login system."
   ]
  },
  {
   "cell_type": "markdown",
   "metadata": {
    "colab_type": "text",
    "id": "ocd0cCuk4AvP"
   },
   "source": [
    "---\n",
    "## Additional Information\n",
    "\n",
    "There are two functionalities built into python that will assist in implementing your system.\n",
    "\n",
    "At this point you should be familiar with python's **in** keyword. You have used it to iterate through a sequence in a for loop. For example **for i in range(10):** will iterate through the numbers 0-9. The **in** keyword can also be used to identify if a value is present in a sequence. This is achieved using the following expression:\n",
    "\n",
    "<br>\n",
    "\\begin{align}\n",
    "  \\texttt{<value> in <sequence>}\n",
    "\\end{align}\n",
    "<br>\n",
    "\n",
    "The expression will return **True** if the value is present in the list, otherwise **False**. Consider the following example: \n"
   ]
  },
  {
   "cell_type": "code",
   "execution_count": 1,
   "metadata": {
    "colab": {},
    "colab_type": "code",
    "id": "jXLiATFs4cvE"
   },
   "outputs": [
    {
     "name": "stdout",
     "output_type": "stream",
     "text": [
      "True False False True\n"
     ]
    }
   ],
   "source": [
    "x = [\"a\",\"b\",\"c\",\"d\"]\n",
    "result1 = \"d\" in x\n",
    "result2 = \"OKAY\" in x\n",
    "result3 = 5 in x\n",
    "result4 = \"b\" in x\n",
    "print(result1, result2, result3, result4)"
   ]
  },
  {
   "cell_type": "markdown",
   "metadata": {
    "colab_type": "text",
    "id": "3ScDuGA64iZI"
   },
   "source": [
    "Run the code to see which expressions result to True and which result to False!\n",
    "\n",
    "Secondly, the **index** method can be used to find the index of a given value in a sequence. This is achieved using the following expression:\n",
    "\n",
    "<br>\n",
    "\\begin{align}\n",
    "  \\texttt{<sequence>.index(<value>)}\n",
    "\\end{align}\n",
    "<br>\n",
    "\n",
    "Consider the following example:\n"
   ]
  },
  {
   "cell_type": "code",
   "execution_count": 1,
   "metadata": {
    "colab": {},
    "colab_type": "code",
    "id": "71fv8-5w48T1"
   },
   "outputs": [
    {
     "name": "stdout",
     "output_type": "stream",
     "text": [
      "0 1 3\n"
     ]
    }
   ],
   "source": [
    "x = [\"a\",\"b\",\"c\",\"d\"]\n",
    "i1 = x.index(\"a\")\n",
    "i2 = x.index(\"b\")\n",
    "i3 = x.index(\"d\")\n",
    "print(i1,i2,i3)"
   ]
  },
  {
   "cell_type": "markdown",
   "metadata": {
    "colab_type": "text",
    "id": "Er3bNU7v4-f8"
   },
   "source": [
    "Run the code to verify that i1, i2, and i3 contain the index of “a”, “b”, and “d” in the list x, respectively. Note that the command will provide an error if the value does not exist in the sequence. In addition, the command will return the index of the first occurrence of a value if duplicated values exist in a given list. For the purposes of this assignment, you do not have to worry about these cases!\n",
    "\n",
    "You now have all the information necessary to begin implementing the login system!"
   ]
  },
  {
   "cell_type": "markdown",
   "metadata": {},
   "source": [
    "---\n",
    "## NOTE: YOU WILL BE MARKED ON MULTIPLE ITEMS IN THIS LAB IN ADDITION TO THE FUNCTIONALITY OF YOUR CODE\n",
    " - Variable Names\n",
    " - Commenting\n",
    " - General Legibility\n",
    " - Reflective Questions"
   ]
  },
  {
   "cell_type": "markdown",
   "metadata": {
    "colab_type": "text",
    "id": "F0rMpqpbbe6b"
   },
   "source": [
    "---\n",
    "## Program Requirements (12 Marks)\n",
    "\n",
    "Your task is to implement a set of functions that will be used in conjunction to form a website login system. Your system will read and write user credentials from a text file that emulates a database. The requirements of the system are given below. Please ensure that your functions have the EXACT naming as specified! Failure to do so will result in lost marks.\n",
    "\n",
    "\n",
    "1. Define a function **getUserData**(*filename*):\n",
    "  - ***filename***: A *string* representing the name of the text file (ex. “database.txt”) that stores user login credentials in the form of (1).\n",
    "  - **Function Description**: The function performs the following actions:\n",
    "    - Opens a file with the name *filename* for reading.\n",
    "    - Initializes two empty lists: **usernames**, and **passwords**\n",
    "    - Iterates through each line in the file and extracts the username and password in each line. On each iteration, the username is appended as a string to **usernames** and the password is appended as a string to **passwords**. Thus, after each line in the file has been iterated, **usernames[i]** and **passwords[i]** will contain the username and password for a given user at a given index i\n",
    "    - Closes the file with *filename*<br>*(Note that it is assumed that the file associated with filename exists before the function is called)*\n",
    "  - **Return**: A *list* of length 2 where the first element is the **usernames** list and the second element is the **passwords** list populated with the data from *filename* as described above. <br>*(Hint: You can split at tabs by providing \"\\t\" as the argument, similar to \"\\n\" for new lines)*\n",
    "  \n",
    "\n",
    "2. Define a function **exists**(*username*, *filename*):\n",
    "  - ***username***: A *string* representing a username.\n",
    "  - ***filename***: A *string* representing the name of the text file (ex. “database.txt”) that stores user login credentials in the form of (1).\n",
    "  - **Return**: *True* if *username* exists in *filename*, otherwise *False*.<br>*(Hint: User your getUserData function and the **in** keyword. Refer to the additinal information section*\n",
    "\n",
    "\n",
    "3. Define a function **createUser**(*username*, *password*, *filename*):\n",
    "  - ***username***: A *string* representing a username.\n",
    "  - ***password***: A *string* representing a password.\n",
    "  - ***filename***: A *string* representing the name of the text file (ex. “database.txt”) that stores user login credentials in the form of (1).\n",
    "  - **Function Description**: The function performs the following actions:\n",
    "    - If *username* **does not** exist in *filename*, open *filename* in append mode, write the username and password in the form (1), and close the file.\n",
    "    - If *username* **does** exist in *filename*, do nothing.\n",
    "  - **Return**: *True* if *username* and *password* were added to *filename*, otherwise *False*\n",
    "\n",
    "\n",
    "4. Define a function **login**(*username*, *password*, *filename*):\n",
    "  - ***username***: A *string* representing a username.\n",
    "  - ***password***: A *string* representing a password.\n",
    "  - ***filename***: A *string* representing the name\n",
    "  - **Function Description**: The function performs the following actions:\n",
    "    - If *username* **does** exist in *filename*, find the password associated with *username* in *filename* and check if *password* is equal to the expected password.<br> *(Hint: Use your **getUserData** function and the **index** method. Refer to the additional information section)*\n",
    "    - If the username **does not** exist in *filename*, do nothing.\n",
    "  - **Return**: *True* if *password* matches the password associated with *username* in *filename*. *False* if the passwords do not match or *username* does not exist in *filename*."
   ]
  },
  {
   "cell_type": "markdown",
   "metadata": {
    "colab_type": "text",
    "id": "0sCzEGhfc6ln"
   },
   "source": [
    "---\n",
    "## Implementation\n",
    "Please define all functions in the cell below"
   ]
  },
  {
   "cell_type": "code",
   "execution_count": 10,
   "metadata": {
    "colab": {},
    "colab_type": "code",
    "id": "NhNJnwTQYBQ2"
   },
   "outputs": [
    {
     "name": "stdout",
     "output_type": "stream",
     "text": [
      "Account creation sucessful for user, gulk \n",
      "\n",
      "Login sucessful!\n",
      "\n"
     ]
    }
   ],
   "source": [
    "# YOUR CODE HERE\n",
    "def getUserData(filename):\n",
    "    '''Returns the [usernames, passwords] that are stored in a file''' \n",
    "\n",
    "    # read all lines from the file\n",
    "    with open(filename, 'r') as database:\n",
    "        dbLines = database.readlines()\n",
    "\n",
    "    # create username and password lists with same length as # of lines\n",
    "    usernames = [None] * len(dbLines)\n",
    "    passwords = usernames.copy()\n",
    "\n",
    "    # add username to usernames list, password to passwords list (removing formatting)\n",
    "    for i in range(len(dbLines)):\n",
    "        split = dbLines[i].split('\\t')  # username and password are seperated by a tab\n",
    "\n",
    "        usernames[i] = split[0]\n",
    "        passwords[i] = split[1].strip('\\n')\n",
    "\n",
    "    return [usernames, passwords]\n",
    "\n",
    "def exists(username, filename):\n",
    "    '''Returns if a username exists in the database specified by filename'''\n",
    "\n",
    "    usernames = getUserData(filename)[0]  # first element is usernames, thats all we care about\n",
    "\n",
    "    return username in usernames\n",
    "\n",
    "def createUser(username, password, filename):\n",
    "    '''Creates a user with username and password if one does not already exist in the database specified by filename, returns if account was created'''\n",
    "\n",
    "    # exit if account already exists with that username\n",
    "    if exists(username, filename):\n",
    "        return False\n",
    "    \n",
    "    # otherwise add user account to the file\n",
    "    with open(filename, 'a') as database:\n",
    "        database.write(f\"{username}\\t{password}\\n\")\n",
    "\n",
    "    return True\n",
    "\n",
    "def login(username, password, filename):\n",
    "    '''Attempts to authenticate username and password in database specified by filename. Returns False if password did not match or username does not exist, True if sucessful'''\n",
    "\n",
    "    # only attempt to login if the username exists, return False otherwise\n",
    "    if exists(username, filename):\n",
    "        dbData = getUserData(filename)\n",
    "\n",
    "        # grab index of username and see if password at that index matches input password\n",
    "        index = dbData[0].index(username)\n",
    "\n",
    "        return dbData[1][index] == password\n",
    "\n",
    "    return False\n",
    "\n",
    "# Testing\n",
    "def main():\n",
    "\n",
    "    database = \"database.txt\"\n",
    "    while True:\n",
    "        ans = input(\"Press [q] to quit, [l] to login, [c] to create an account: \")\n",
    "        if ans == \"q\":\n",
    "            # Break if the user quits\n",
    "            break\n",
    "        elif ans == \"l\":\n",
    "            # Login if the user types in \"l\"\n",
    "            uname = input(\"Please enter your username: \")\n",
    "            password = input(\"Please enter your password: \")\n",
    "            if login(uname, password, database):\n",
    "                print(\"Login sucessful!\\n\")\n",
    "            else:\n",
    "                print(\"Sorry, login unsucessful :(\\n\")\n",
    "        elif ans == \"c\":\n",
    "            # Create an account if the user types in c\n",
    "            uname = input(\"Please create a username: \")\n",
    "            password = input(\"Please create a password: \")\n",
    "            # Check if username exists\n",
    "            if createUser(uname, password, database):\n",
    "                    print(\"Account creation sucessful for user,\",uname,\"\\n\")\n",
    "            else:\n",
    "                    print(\"Sorry,\",uname,\"is already taken!\\n\")\n",
    "        else:\n",
    "            print(\"Please enter a valid character\")\n",
    "main()"
   ]
  },
  {
   "cell_type": "markdown",
   "metadata": {},
   "source": [
    "The main function above utilizes the functions you have created to simulate the login system environment. Inspect the code and play around with the funtionality to test out all of your functions. A file has already been created for you called \"database.txt\". This file contains one user with the following credentials:\n",
    "\n",
    "Username: iLoveMac\n",
    "Password: iamthebeststudent123\n",
    "\n",
    "Use the credentials to log into the system or create your own using the main function!"
   ]
  },
  {
   "cell_type": "markdown",
   "metadata": {},
   "source": [
    "----------\n",
    "## Code Legibility (6 Marks)\n",
    "Your code will be marked on commenting and code legibility.<br>\n",
    "The mark breakdown is as follows:<br>\n",
    "2 marks for using appropriate variable names that indicate what is being stored in that variable<br>\n",
    "2 marks for leaving comments on major parts of your code such as where you read the file or calculate a summation<br>\n",
    "2 marks for general legibility. The TA's should be able to understand your code without spending hours reading it. For example do not put your code in one very long line as this is hard for someone else reading your code to understand"
   ]
  },
  {
   "cell_type": "markdown",
   "metadata": {
    "colab_type": "text",
    "id": "I-H2l4mYdqMe"
   },
   "source": [
    "---\n",
    "## Reflective Questions (6 Marks)\n",
    "\n",
    "1. The createUser function requires that filename is opened in append mode in order to add a username/password combinations to filename. What will happen if filename is instead opened in write mode? Assume you are forced to use any access mode other append. Is it possible to re-write the function such that the functionality does not change? Please explain.\n",
    "\n",
    "\n",
    "2. Assume you have to write a function **validLength** that would check if the *username* and *password* are greater than 6 characters. How would you implement this function?\n",
    "\n",
    "\n",
    "3. Assume you have two functions **encrypt(password)** and **decrypt(encoded_password)**. The function **encrypt** takes a password string and returns an encoded version of the password as a string. The function **decrypt** decodes  the encoded_password string and returns the decoded password as a string. Where would you use these functions in your code if you wanted your login system to store encoded user passwords rather than raw text passwords?\n",
    "\n",
    "Please answer all questions in the cell below!"
   ]
  },
  {
   "cell_type": "markdown",
   "metadata": {
    "colab": {},
    "colab_type": "code",
    "id": "d5A_9jeadq8F"
   },
   "source": [
    "```\n",
    "DOUBLE CLICK TO EDIT THIS CELL. DO NOT DELETE QUOTATION MARKS\n",
    "\n",
    "1. It is completley possible to do this. One would have to get the total length of the file (probably by using len() on the output of read()), then use the seek() function with that length to go to the end of the file. From that point, the function can continue as its currently written.\n",
    "\n",
    "2. You can grab the length of a string with len(). To write this function, I would take the username and password, and return True only if both the username and password are greater than 6 characters, otherwise return false. The code that calls this function can then choose how to handle input of incorrect length.\n",
    "\n",
    "3. The encrypt() function would be used in createUser() on the password varible, with the output of the function being written to the file. The decrypt() function could then be used in login(), to decrypt the password retrived from the database. Alternativley, the user input could be encrypted, and that can be compared to the stored encrypted password. This is similar to how passwords are stored in real world contexts, however they use complex salting and hashing algorithms rather than encryption. \n",
    "```"
   ]
  },
  {
   "cell_type": "markdown",
   "metadata": {
    "colab_type": "text",
    "id": "s7blsL23drc9"
   },
   "source": [
    "---\n",
    "## Submission\n",
    "\n",
    "Please download this notebook as a .py file (*File* > *Download as* > *Python (.py)*) and submit it to the Computing Lab 5 dropbox on avenue with the naming convention: macID_CL5.py\n",
    "\n",
    "**Make sure the final version of your lab runs without errors, otherwise, you will likely recieve zero.**\n",
    "\n",
    "This assignment is due the day after your Lab A section at 11:59 PM EST\n",
    "\n",
    "Late labs will not be accepted"
   ]
  }
 ],
 "metadata": {
  "colab": {
   "collapsed_sections": [],
   "name": "Computing 5 - Assignment",
   "provenance": []
  },
  "kernelspec": {
   "display_name": "Python 3",
   "language": "python",
   "name": "python3"
  },
  "language_info": {
   "codemirror_mode": {
    "name": "ipython",
    "version": 3
   },
   "file_extension": ".py",
   "mimetype": "text/x-python",
   "name": "python",
   "nbconvert_exporter": "python",
   "pygments_lexer": "ipython3",
   "version": "3.9.0"
  }
 },
 "nbformat": 4,
 "nbformat_minor": 4
}
