{
 "cells": [
  {
   "cell_type": "markdown",
   "metadata": {
    "colab_type": "text",
    "id": "QNa8iArXtPq4"
   },
   "source": [
    "# __ENG 1P13 Week *4*__ - _Trial and Errors_\n",
    "---\n",
    "# Overview\n",
    "Welcome to another week of 1P13. This week we'll be covering:\n",
    "*   Inputs and Outputs\n",
    "*   Built-in Functions\n",
    "*   Errors"
   ]
  },
  {
   "cell_type": "markdown",
   "metadata": {
    "colab_type": "text",
    "id": "AotasaWNRQ0V"
   },
   "source": [
    "---\n",
    "# 2 Built-in Functions \n",
    "\n",
    "\n",
    "\n",
    "\n"
   ]
  },
  {
   "cell_type": "markdown",
   "metadata": {
    "colab_type": "text",
    "id": "R7REVQGj9hrq"
   },
   "source": [
    "## 2.4 Import\n",
    "Refer to \"Computing 1B Slides.pdf\" slide #22 for more information"
   ]
  },
  {
   "cell_type": "markdown",
   "metadata": {
    "colab_type": "text",
    "id": "_rQ0ZNvUfBoK"
   },
   "source": [
    "## **Random Library** Demo\n",
    "\n",
    "You'll need the random library for the assignment, so let's get you introduced"
   ]
  },
  {
   "cell_type": "code",
   "execution_count": 3,
   "metadata": {
    "colab": {
     "base_uri": "https://localhost:8080/",
     "height": 68
    },
    "colab_type": "code",
    "id": "SUPhdCX-JStD",
    "outputId": "b2b385f7-ea08-465f-92de-b704c41d42cb",
    "tags": []
   },
   "outputs": [
    {
     "output_type": "stream",
     "name": "stdout",
     "text": "Gino&#39;s\n"
    }
   ],
   "source": [
    "#RANDOM LIBRARY\n",
    "import random\n",
    "\n",
    "#make a list of items and find a method to pick one at random\n",
    "\n",
    "#you'll probably want the random library\n",
    "#for this answer let's make a list of restaurants and import the random library\n",
    "\n",
    "fastFood = [\"Wendy's\", \"McDonald's\", \"Tim's\", \"Gino's\", \"Starbuck's\"]\n",
    "\n",
    "\n",
    "#our list has 5 items, so our index goes from 0 to 4\n",
    "#if we wanted the THIRD item in our list:\n",
    "print(f\"Third item {fastFood[3]}\")\n",
    "\n",
    "\n",
    "\n",
    "#so let's use the random library to get a random number from 0 to 4\n",
    "#use random.randint(a, b) to get a random integer in the range [a, b] inclusive\n",
    "\n",
    "\n",
    "\n",
    "#so where are we eating today?\n",
    "print(random.choice(fastFood))\n"
   ]
  },
  {
   "cell_type": "markdown",
   "metadata": {
    "colab_type": "text",
    "id": "_CXmZ4b3wn0I"
   },
   "source": [
    "## **Math Library** Demo\n",
    "\n",
    "You'll also need the math library"
   ]
  },
  {
   "cell_type": "code",
   "execution_count": null,
   "metadata": {
    "colab": {
     "base_uri": "https://localhost:8080/",
     "height": 68
    },
    "colab_type": "code",
    "id": "eLR8Ew71c4jy",
    "outputId": "577390dd-9850-4c26-b560-577103616114"
   },
   "outputs": [],
   "source": [
    "#MATH LIBRARY\n",
    "\n",
    "#right angle triangle with height of 0.1m and corresponding angle of pi/6\n",
    "#find the base and hypotenuse lengths and check your answer using pythagoras'\n",
    "\n",
    "#we need the math module\n",
    "\n",
    "\n",
    "#set variables\n",
    "\n",
    "\n",
    "#find the base using the math.tan() function\n",
    "\n",
    "\n",
    "#now hypotenuse, with math.sin()\n",
    "\n",
    "\n",
    "#confirm your answer\n",
    "#the math library has a power function\n",
    "#Note: you can also just use x**y to raise x to the power of y\n",
    "\n",
    "\n",
    "#square root the answer with math.sqrt()\n",
    "\n",
    "\n",
    "\n",
    "#Note: the calculated height isn't exact since lack of accuracy causes floats\n",
    "#to misbehave and round\n",
    "#but that's a complicated lesson for another day"
   ]
  },
  {
   "cell_type": "markdown",
   "metadata": {
    "colab_type": "text",
    "id": "JFwRPaj-pjDv"
   },
   "source": [
    "---\n",
    "# 2.3 Errors and Troubleshooting\n",
    "Refer to \"Computing 1B Slides.pdf\" slide #27 for more information\n",
    "\n",
    "\n",
    "## **Indent** Error\n",
    "\n",
    "From here on we're just going to be highlighting some common errors new (and experienced) programmers may make"
   ]
  },
  {
   "cell_type": "code",
   "execution_count": 6,
   "metadata": {
    "colab": {
     "base_uri": "https://localhost:8080/",
     "height": 134
    },
    "colab_type": "code",
    "id": "XBy7Zjok5RwI",
    "outputId": "90cdbfea-4ec7-48d8-86db-6950a6457abd",
    "tags": []
   },
   "outputs": [
    {
     "output_type": "stream",
     "name": "stdout",
     "text": "Is this in the function\n0\n1\n2\n3\n4\n5\n6\n7\n8\n9\nx is less than 10\n"
    }
   ],
   "source": [
    "#Indent Errors\n",
    "\n",
    "#Ex 1\n",
    "def fun():\n",
    "    print(\"Is this in the function\")\n",
    "fun()\n",
    "\n",
    "#Ex 2\n",
    "for i in range(10):    \n",
    "    print(i)\n",
    "\n",
    "#Ex 3\n",
    "x=5\n",
    "if x<10:\n",
    "    print(\"x is less than 10\")"
   ]
  },
  {
   "cell_type": "markdown",
   "metadata": {
    "colab_type": "text",
    "id": "_0RnEQHkC7aB"
   },
   "source": [
    "## **Name** Error"
   ]
  },
  {
   "cell_type": "code",
   "execution_count": 12,
   "metadata": {
    "colab": {
     "base_uri": "https://localhost:8080/",
     "height": 232
    },
    "colab_type": "code",
    "id": "8OXgGveH4hoM",
    "outputId": "dae58bcd-d5c7-40c2-c403-82c3c92b7960",
    "tags": []
   },
   "outputs": [
    {
     "output_type": "stream",
     "name": "stdout",
     "text": "10\n24\n27\n"
    }
   ],
   "source": [
    "#Name Errors\n",
    "\n",
    "#Ex 1 \n",
    "x = 10\n",
    "y=23\n",
    "y = y + 1\n",
    "print(x)\n",
    "print(y)\n",
    "\n",
    "#Ex 2 \n",
    "def fun():\n",
    "    variable = 27\n",
    "    return variable\n",
    "var = fun()\n",
    "print(var)"
   ]
  },
  {
   "cell_type": "markdown",
   "metadata": {
    "colab_type": "text",
    "id": "6vLU-lNTC-sF"
   },
   "source": [
    "## **Type** Error"
   ]
  },
  {
   "cell_type": "code",
   "execution_count": 11,
   "metadata": {
    "colab": {
     "base_uri": "https://localhost:8080/",
     "height": 266
    },
    "colab_type": "code",
    "id": "N5NEAV6r6W9i",
    "outputId": "835f1f48-11a3-4546-a551-0d2381729ee2",
    "tags": []
   },
   "outputs": [
    {
     "output_type": "stream",
     "name": "stdout",
     "text": "You are either 17 or 18 years old\n6\n"
    }
   ],
   "source": [
    "#Type Errors\n",
    "\n",
    "#Ex 1 \n",
    "currentYear = input(\"Enter the current year:\")\n",
    "birthYear = input(\"Enter your birth year:\")\n",
    "age1 = int(currentYear) - int(birthYear)\n",
    "age2 = age1 - 1\n",
    "print(\"You are either\", age2, \"or\", age1, \"years old\")\n",
    "\n",
    "\n",
    "#Ex 2 \n",
    "number = 96024\n",
    "secondDigit = str(number)[1]\n",
    "print(secondDigit)"
   ]
  },
  {
   "cell_type": "markdown",
   "metadata": {
    "colab_type": "text",
    "id": "4u7Qe9ZfJ-PR"
   },
   "source": [
    "## **Unbound Local** Error"
   ]
  },
  {
   "cell_type": "code",
   "execution_count": 23,
   "metadata": {
    "colab": {},
    "colab_type": "code",
    "id": "ikx0YyinKB27",
    "tags": []
   },
   "outputs": [
    {
     "output_type": "stream",
     "name": "stdout",
     "text": "1\n"
    }
   ],
   "source": [
    "#Ex 1 \n",
    "number = 0\n",
    "def increment():\n",
    "    global number\n",
    "    number = number + 1\n",
    "    return number\n",
    "\n",
    "print(increment())"
   ]
  },
  {
   "cell_type": "markdown",
   "metadata": {
    "colab_type": "text",
    "id": "tfcLLkQSKCSv"
   },
   "source": [
    "## **Syntax** Error"
   ]
  },
  {
   "cell_type": "code",
   "execution_count": 27,
   "metadata": {
    "colab": {},
    "colab_type": "code",
    "id": "ztHe4ZvIKUhB",
    "tags": [
     "outputPrepend"
    ]
   },
   "outputs": [
    {
     "output_type": "stream",
     "name": "stdout",
     "text": "1\ny is 1\ny is 1\ny is 1\ny is 1\ny is 1\ny is 1\ny is 1\ny is 1\ny is 1\ny is 1\ny is 1\ny is 1\ny is 1\ny is 1\ny is 1\ny is 1\ny is 1\ny is 1\ny is 1\ny is 1\ny is 1\ny is 1\ny is 1\ny is 1\ny is 1\ny is 1\ny is 1\ny is 1\ny is 1\ny is 1\ny is 1\ny is 1\ny is 1\ny is 1\ny is 1\ny is 1\ny is 1\ny is 1\ny is 1\ny is 1\ny is 1\ny is 1\ny is 1\ny is 1\ny is 1\ny is 1\ny is 1\ny is 1\ny is 1\ny is 1\ny is 1\ny is 1\ny is 1\ny is 1\ny is 1\ny is 1\ny is 1\ny is 1\ny is 1\ny is 1\ny is 1\ny is 1\ny is 1\ny is 1\ny is 1\ny is 1\ny is 1\ny is 1\ny is 1\ny is 1\ny is 1\ny is 1\ny is 1\ny is 1\ny is 1\ny is 1\ny is 1\ny is 1\ny is 1\ny is 1\ny is 1\ny is 1\ny is 1\ny is 1\ny is 1\ny is 1\ny is 1\ny is 1\ny is 1\ny is 1\ny is 1\ny is 1\ny is 1\ny is 1\ny is 1\ny is 1\ny is 1\ny is 1\ny is 1\ny is 1\ny is 1\ny is 1\ny is 1\ny is 1\ny is 1\ny is 1\ny is 1\ny is 1\ny is 1\ny is 1\ny is 1\ny is 1\ny is 1\ny is 1\ny is 1\ny is 1\ny is 1\ny is 1\ny is 1\ny is 1\ny is 1\ny is 1\ny is 1\ny is 1\ny is 1\ny is 1\ny is 1\ny is 1\ny is 1\ny is 1\ny is 1\ny is 1\ny is 1\ny is 1\ny is 1\ny is 1\ny is 1\ny is 1\ny is 1\ny is 1\ny is 1\ny is 1\ny is 1\ny is 1\ny is 1\ny is 1\ny is 1\ny is 1\ny is 1\ny is 1\ny is 1\ny is 1\ny is 1\ny is 1\ny is 1\ny is 1\ny is 1\ny is 1\ny is 1\ny is 1\ny is 1\ny is 1\ny is 1\ny is 1\ny is 1\ny is 1\ny is 1\ny is 1\ny is 1\ny is 1\ny is 1\ny is 1\ny is 1\ny is 1\ny is 1\ny is 1\ny is 1\ny is 1\ny is 1\ny is 1\ny is 1\ny is 1\ny is 1\ny is 1\ny is 1\ny is 1\ny is 1\ny is 1\ny is 1\ny is 1\ny is 1\ny is 1\ny is 1\ny is 1\ny is 1\ny is 1\ny is 1\ny is 1\ny is 1\ny is 1\ny is 1\ny is 1\ny is 1\ny is 1\ny is 1\ny is 1\ny is 1\ny is 1\ny is 1\ny is 1\ny is 1\ny is 1\ny is 1\ny is 1\ny is 1\ny is 1\ny is 1\ny is 1\ny is 1\ny is 1\ny is 1\ny is 1\ny is 1\ny is 1\ny is 1\ny is 1\ny is 1\ny is 1\ny is 1\ny is 1\ny is 1\ny is 1\ny is 1\ny is 1\ny is 1\ny is 1\ny is 1\ny is 1\ny is 1\ny is 1\ny is 1\ny is 1\ny is 1\ny is 1\ny is 1\ny is 1\ny is 1\ny is 1\ny is 1\ny is 1\ny is 1\ny is 1\ny is 1\ny is 1\ny is 1\ny is 1\ny is 1\ny is 1\ny is 1\ny is 1\ny is 1\ny is 1\ny is 1\ny is 1\ny is 1\ny is 1\ny is 1\ny is 1\ny is 1\ny is 1\ny is 1\ny is 1\ny is 1\ny is 1\ny is 1\ny is 1\ny is 1\ny is 1\ny is 1\ny is 1\ny is 1\ny is 1\ny is 1\ny is 1\ny is 1\ny is 1\ny is 1\ny is 1\ny is 1\ny is 1\ny is 1\ny is 1\ny is 1\ny is 1\ny is 1\ny is 1\ny is 1\ny is 1\ny is 1\ny is 1\ny is 1\ny is 1\ny is 1\ny is 1\ny is 1\ny is 1\ny is 1\ny is 1\ny is 1\ny is 1\ny is 1\ny is 1\ny is 1\ny is 1\ny is 1\ny is 1\ny is 1\ny is 1\ny is 1\ny is 1\ny is 1\ny is 1\ny is 1\ny is 1\ny is 1\ny is 1\ny is 1\ny is 1\ny is 1\ny is 1\ny is 1\ny is 1\ny is 1\ny is 1\ny is 1\ny is 1\ny is 1\ny is 1\ny is 1\ny is 1\ny is 1\ny is 1\ny is 1\ny is 1\ny is 1\ny is 1\ny is 1\ny is 1\ny is 1\ny is 1\ny is 1\ny is 1\ny is 1\ny is 1\ny is 1\ny is 1\ny is 1\ny is 1\ny is 1\ny is 1\ny is 1\ny is 1\ny is 1\ny is 1\ny is 1\ny is 1\ny is 1\ny is 1\ny is 1\ny is 1\ny is 1\ny is 1\ny is 1\ny is 1\ny is 1\ny is 1\ny is 1\ny is 1\ny is 1\ny is 1\ny is 1\ny is 1\ny is 1\ny is 1\ny is 1\ny is 1\ny is 1\ny is 1\ny is 1\ny is 1\ny is 1\ny is 1\ny is 1\ny is 1\ny is 1\ny is 1\ny is 1\ny is 1\ny is 1\ny is 1\ny is 1\ny is 1\ny is 1\ny is 1\ny is 1\ny is 1\ny is 1\ny is 1\ny is 1\ny is 1\ny is 1\ny is 1\ny is 1\ny is 1\ny is 1\ny is 1\ny is 1\ny is 1\ny is 1\ny is 1\ny is 1\ny is 1\ny is 1\ny is 1\ny is 1\ny is 1\ny is 1\ny is 1\ny is 1\ny is 1\ny is 1\ny is 1\ny is 1\ny is 1\ny is 1\ny is 1\ny is 1\ny is 1\ny is 1\ny is 1\ny is 1\ny is 1\ny is 1\ny is 1\ny is 1\ny is 1\ny is 1\ny is 1\ny is 1\ny is 1\ny is 1\ny is 1\ny is 1\ny is 1\ny is 1\ny is 1\ny is 1\ny is 1\ny is 1\ny is 1\ny is 1\ny is 1\ny is 1\ny is 1\ny is 1\ny is 1\ny is 1\ny is 1\ny is 1\ny is 1\ny is 1\ny is 1\ny is 1\ny is 1\ny is 1\ny is 1\ny is 1\ny is 1\ny is 1\ny is 1\ny is 1\ny is 1\ny is 1\ny is 1\ny is 1\ny is 1\ny is 1\ny is 1\ny is 1\ny is 1\ny is 1\ny is 1\ny is 1\ny is 1\ny is 1\ny is 1\ny is 1\ny is 1\ny is 1\ny is 1\ny is 1\ny is 1\ny is 1\ny is 1\ny is 1\ny is 1\ny is 1\ny is 1\ny is 1\ny is 1\ny is 1\ny is 1\ny is 1\ny is 1\ny is 1\ny is 1\ny is 1\ny is 1\ny is 1\ny is 1\ny is 1\ny is 1\ny is 1\ny is 1\ny is 1\ny is 1\ny is 1\ny is 1\ny is 1\ny is 1\ny is 1\ny is 1\ny is 1\ny is 1\ny is 1\ny is 1\ny is 1\ny is 1\ny is 1\ny is 1\ny is 1\ny is 1\ny is 1\ny is 1\ny is 1\ny is 1\ny is 1\ny is 1\ny is 1\ny is 1\ny is 1\ny is 1\ny is 1\ny is 1\ny is 1\ny is 1\ny is 1\ny is 1\ny is 1\ny is 1\ny is 1\ny is 1\ny is 1\ny is 1\ny is 1\ny is 1\ny is 1\ny is 1\ny is 1\ny is 1\ny is 1\ny is 1\ny is 1\ny is 1\ny is 1\ny is 1\ny is 1\ny is 1\ny is 1\ny is 1\ny is 1\ny is 1\ny is 1\ny is 1\ny is 1\ny is 1\ny is 1\ny is 1\ny is 1\ny is 1\ny is 1\ny is 1\ny is 1\ny is 1\ny is 1\ny is 1\ny is 1\ny is 1\ny is 1\ny is 1\ny is 1\ny is 1\ny is 1\ny is 1\ny is 1\ny is 1\ny is 1\ny is 1\ny is 1\ny is 1\ny is 1\ny is 1\ny is 1\ny is 1\ny is 1\ny is 1\ny is 1\ny is 1\ny is 1\ny is 1\ny is 1\ny is 1\ny is 1\ny is 1\ny is 1\ny is 1\ny is 1\ny is 1\ny is 1\ny is 1\ny is 1\ny is 1\ny is 1\ny is 1\ny is 1\ny is 1\ny is 1\ny is 1\ny is 1\ny is 1\ny is 1\ny is 1\ny is 1\ny is 1\ny is 1\ny is 1\ny is 1\ny is 1\ny is 1\ny is 1\ny is 1\ny is 1\ny is 1\ny is 1\ny is 1\ny is 1\ny is 1\ny is 1\ny is 1\ny is 1\ny is 1\ny is 1\ny is 1\ny is 1\ny is 1\ny is 1\ny is 1\ny is 1\ny is 1\ny is 1\ny is 1\ny is 1\ny is 1\ny is 1\ny is 1\ny is 1\ny is 1\ny is 1\ny is 1\ny is 1\ny is 1\ny is 1\ny is 1\ny is 1\ny is 1\ny is 1\ny is 1\ny is 1\ny is 1\ny is 1\ny is 1\ny is 1\ny is 1\ny is 1\ny is 1\ny is 1\ny is 1\ny is 1\ny is 1\ny is 1\ny is 1\ny is 1\ny is 1\ny is 1\ny is 1\ny is 1\ny is 1\ny is 1\ny is 1\ny is 1\ny is 1\ny is 1\ny is 1\ny is 1\ny is 1\ny is 1\ny is 1\ny is 1\ny is 1\ny is 1\ny is 1\ny is 1\ny is 1\ny is 1\ny is 1\ny is 1\ny is 1\ny is 1\ny is 1\ny is 1\ny is 1\ny is 1\ny is 1\ny is 1\ny is 1\ny is 1\ny is 1\ny is 1\ny is 1\ny is 1\ny is 1\ny is 1\ny is 1\ny is 1\ny is 1\ny is 1\ny is 1\ny is 1\ny is 1\ny is 1\ny is 1\ny is 1\ny is 1\ny is 1\ny is 1\ny is 1\ny is 1\ny is 1\ny is 1\ny is 1\ny is 1\ny is 1\ny is 1\ny is 1\ny is 1\ny is 1\ny is 1\ny is 1\ny is 1\ny is 1\ny is 1\ny is 1\ny is 1\ny is 1\ny is 1\ny is 1\ny is 1\ny is 1\ny is 1\ny is 1\ny is 1\ny is 1\ny is 1\ny is 1\ny is 1\ny is 1\ny is 1\ny is 1\ny is 1\ny is 1\ny is 1\ny is 1\ny is 1\ny is 1\ny is 1\ny is 1\ny is 1\ny is 1\ny is 1\ny is 1\ny is 1\ny is 1\ny is 1\ny is 1\ny is 1\ny is 1\ny is 1\ny is 1\ny is 1\ny is 1\ny is 1\ny is 1\ny is 1\ny is 1\ny is 1\ny is 1\ny is 1\ny is 1\ny is 1\ny is 1\ny is 1\ny is 1\ny is 1\ny is 1\ny is 1\ny is 1\ny is 1\ny is 1\ny is 1\ny is 1\ny is 1\ny is 1\ny is 1\ny is 1\ny is 1\ny is 1\ny is 1\ny is 1\ny is 1\ny is 1\ny is 1\ny is 1\ny is 1\ny is 1\ny is 1\ny is 1\ny is 1\ny is 1\ny is 1\ny is 1\ny is 1\ny is 1\ny is 1\ny is 1\ny is 1\ny is 1\ny is 1\ny is 1\ny is 1\ny is 1\ny is 1\ny is 1\ny is 1\ny is 1\ny is 1\ny is 1\ny is 1\ny is 1\ny is 1\ny is 1\ny is 1\ny is 1\ny is 1\ny is 1\ny is 1\ny is 1\ny is 1\ny is 1\ny is 1\ny is 1\ny is 1\ny is 1\ny is 1\ny is 1\ny is 1\ny is 1\ny is 1\ny is 1\ny is 1\ny is 1\ny is 1\ny is 1\ny is 1\ny is 1\ny is 1\ny is 1\ny is 1\ny is 1\ny is 1\ny is 1\ny is 1\ny is 1\ny is 1\ny is 1\ny is 1\ny is 1\ny is 1\ny is 1\ny is 1\ny is 1\ny is 1\ny is 1\ny is 1\ny is 1\ny is 1\ny is 1\ny is 1\ny is 1\ny is 1\ny is 1\ny is 1\ny is 1\ny is 1\ny is 1\ny is 1\ny is 1\ny is 1\ny is 1\ny is 1\ny is 1\ny is 1\ny is 1\ny is 1\ny is 1\ny is 1\ny is 1\ny is 1\ny is 1\ny is 1\ny is 1\ny is 1\ny is 1\ny is 1\ny is 1\ny is 1\ny is 1\ny is 1\ny is 1\ny is 1\ny is 1\ny is 1\ny is 1\ny is 1\ny is 1\ny is 1\ny is 1\ny is 1\ny is 1\ny is 1\ny is 1\ny is 1\ny is 1\ny is 1\ny is 1\ny is 1\ny is 1\ny is 1\ny is 1\ny is 1\ny is 1\ny is 1\ny is 1\ny is 1\ny is 1\ny is 1\ny is 1\ny is 1\ny is 1\ny is 1\ny is 1\ny is 1\ny is 1\ny is 1\ny is 1\ny is 1\ny is 1\ny is 1\ny is 1\ny is 1\ny is 1\ny is 1\ny is 1\ny is 1\ny is 1\ny is 1\ny is 1\ny is 1\ny is 1\ny is 1\ny is 1\ny is 1\ny is 1\ny is 1\ny is 1\ny is 1\ny is 1\ny is 1\ny is 1\ny is 1\ny is 1\ny is 1\ny is 1\ny is 1\ny is 1\ny is 1\ny is 1\ny is 1\ny is 1\ny is 1\ny is 1\ny is 1\ny is 1\ny is 1\ny is 1\ny is 1\ny is 1\ny is 1\ny is 1\ny is 1\ny is 1\ny is 1\ny is 1\ny is 1\ny is 1\ny is 1\ny is 1\ny is 1\ny is 1\ny is 1\ny is 1\ny is 1\ny is 1\ny is 1\ny is 1\ny is 1\ny is 1\ny is 1\ny is 1\ny is 1\ny is 1\ny is 1\ny is 1\ny is 1\ny is 1\ny is 1\ny is 1\ny is 1\ny is 1\ny is 1\ny is 1\ny is 1\ny is 1\ny is 1\ny is 1\ny is 1\ny is 1\ny is 1\ny is 1\ny is 1\ny is 1\ny is 1\ny is 1\ny is 1\ny is 1\ny is 1\ny is 1\ny is 1\ny is 1\ny is 1\ny is 1\ny is 1\ny is 1\ny is 1\ny is 1\ny is 1\ny is 1\ny is 1\ny is 1\ny is 1\ny is 1\ny is 1\ny is 1\ny is 1\ny is 1\ny is 1\ny is 1\ny is 1\ny is 1\ny is 1\ny is 1\ny is 1\ny is 1\ny is 1\ny is 1\ny is 1\ny is 1\ny is 1\ny is 1\ny is 1\ny is 1\ny is 1\ny is 1\ny is 1\ny is 1\ny is 1\ny is 1\ny is 1\ny is 1\ny is 1\ny is 1\ny is 1\ny is 1\ny is 1\ny is 1\ny is 1\ny is 1\ny is 1\ny is 1\ny is 1\ny is 1\ny is 1\ny is 1\ny is 1\ny is 1\ny is 1\ny is 1\ny is 1\ny is 1\ny is 1\ny is 1\ny is 1\ny is 1\ny is 1\ny is 1\ny is 1\ny is 1\ny is 1\ny is 1\ny is 1\ny is 1\ny is 1\ny is 1\ny is 1\ny is 1\ny is 1\ny is 1\ny is 1\ny is 1\ny is 1\ny is 1\ny is 1\ny is 1\ny is 1\ny is 1\ny is 1\ny is 1\ny is 1\ny is 1\ny is 1\ny is 1\ny is 1\ny is 1\ny is 1\ny is 1\ny is 1\ny is 1\ny is 1\ny is 1\ny is 1\ny is 1\ny is 1\ny is 1\ny is 1\ny is 1\ny is 1\ny is 1\ny is 1\ny is 1\ny is 1\ny is 1\ny is 1\ny is 1\ny is 1\ny is 1\ny is 1\ny is 1\ny is 1\ny is 1\ny is 1\ny is 1\ny is 1\ny is 1\ny is 1\ny is 1\ny is 1\ny is 1\ny is 1\ny is 1\ny is 1\ny is 1\ny is 1\ny is 1\ny is 1\ny is 1\ny is 1\ny is 1\ny is 1\ny is 1\ny is 1\ny is 1\ny is 1\ny is 1\ny is 1\ny is 1\ny is 1\ny is 1\ny is 1\ny is 1\ny is 1\ny is 1\ny is 1\ny is 1\ny is 1\ny is 1\ny is 1\ny is 1\ny is 1\ny is 1\ny is 1\ny is 1\ny is 1\ny is 1\ny is 1\ny is 1\ny is 1\ny is 1\ny is 1\ny is 1\ny is 1\ny is 1\ny is 1\ny is 1\ny is 1\ny is 1\ny is 1\ny is 1\ny is 1\ny is 1\ny is 1\ny is 1\ny is 1\ny is 1\ny is 1\ny is 1\ny is 1\ny is 1\ny is 1\ny is 1\ny is 1\ny is 1\ny is 1\ny is 1\ny is 1\ny is 1\ny is 1\ny is 1\ny is 1\ny is 1\ny is 1\ny is 1\ny is 1\ny is 1\ny is 1\ny is 1\ny is 1\ny is 1\ny is 1\ny is 1\ny is 1\ny is 1\ny is 1\ny is 1\ny is 1\ny is 1\ny is 1\ny is 1\ny is 1\ny is 1\ny is 1\ny is 1\ny is 1\ny is 1\ny is 1\ny is 1\ny is 1\ny is 1\ny is 1\ny is 1\ny is 1\ny is 1\ny is 1\ny is 1\ny is 1\ny is 1\ny is 1\ny is 1\ny is 1\ny is 1\ny is 1\ny is 1\ny is 1\ny is 1\ny is 1\ny is 1\ny is 1\ny is 1\ny is 1\ny is 1\ny is 1\ny is 1\ny is 1\ny is 1\ny is 1\ny is 1\ny is 1\ny is 1\ny is 1\ny is 1\ny is 1\ny is 1\ny is 1\ny is 1\ny is 1\ny is 1\ny is 1\ny is 1\ny is 1\ny is 1\ny is 1\ny is 1\ny is 1\ny is 1\ny is 1\ny is 1\ny is 1\ny is 1\ny is 1\ny is 1\ny is 1\ny is 1\ny is 1\ny is 1\ny is 1\ny is 1\ny is 1\ny is 1\ny is 1\ny is 1\ny is 1\ny is 1\ny is 1\ny is 1\ny is 1\ny is 1\ny is 1\ny is 1\ny is 1\ny is 1\ny is 1\ny is 1\ny is 1\ny is 1\ny is 1\ny is 1\ny is 1\ny is 1\ny is 1\ny is 1\ny is 1\ny is 1\ny is 1\ny is 1\ny is 1\ny is 1\ny is 1\ny is 1\ny is 1\ny is 1\ny is 1\ny is 1\ny is 1\ny is 1\ny is 1\ny is 1\ny is 1\ny is 1\ny is 1\ny is 1\ny is 1\ny is 1\ny is 1\ny is 1\ny is 1\ny is 1\ny is 1\ny is 1\ny is 1\ny is 1\ny is 1\ny is 1\ny is 1\ny is 1\ny is 1\ny is 1\ny is 1\ny is 1\ny is 1\ny is 1\ny is 1\ny is 1\ny is 1\ny is 1\ny is 1\ny is 1\ny is 1\ny is 1\ny is 1\ny is 1\ny is 1\ny is 1\ny is 1\ny is 1\ny is 1\ny is 1\ny is 1\ny is 1\ny is 1\ny is 1\ny is 1\ny is 1\ny is 1\ny is 1\ny is 1\ny is 1\ny is 1\ny is 1\ny is 1\ny is 1\ny is 1\ny is 1\ny is 1\ny is 1\ny is 1\ny is 1\ny is 1\ny is 1\ny is 1\ny is 1\ny is 1\ny is 1\ny is 1\ny is 1\ny is 1\ny is 1\ny is 1\ny is 1\ny is 1\ny is 1\ny is 1\ny is 1\ny is 1\ny is 1\ny is 1\ny is 1\ny is 1\ny is 1\ny is 1\ny is 1\ny is 1\ny is 1\ny is 1\ny is 1\ny is 1\ny is 1\ny is 1\ny is 1\ny is 1\ny is 1\ny is 1\ny is 1\ny is 1\ny is 1\ny is 1\ny is 1\ny is 1\ny is 1\ny is 1\ny is 1\ny is 1\ny is 1\ny is 1\ny is 1\ny is 1\ny is 1\ny is 1\ny is 1\ny is 1\ny is 1\ny is 1\ny is 1\ny is 1\ny is 1\ny is 1\ny is 1\ny is 1\ny is 1\ny is 1\ny is 1\ny is 1\ny is 1\ny is 1\ny is 1\ny is 1\ny is 1\ny is 1\ny is 1\ny is 1\ny is 1\ny is 1\ny is 1\ny is 1\ny is 1\ny is 1\ny is 1\ny is 1\ny is 1\ny is 1\ny is 1\ny is 1\ny is 1\ny is 1\ny is 1\ny is 1\ny is 1\ny is 1\ny is 1\ny is 1\ny is 1\ny is 1\ny is 1\ny is 1\ny is 1\ny is 1\ny is 1\ny is 1\ny is 1\ny is 1\ny is 1\ny is 1\ny is 1\ny is 1\ny is 1\ny is 1\ny is 1\ny is 1\ny is 1\ny is 1\ny is 1\ny is 1\ny is 1\ny is 1\ny is 1\ny is 1\ny is 1\ny is 1\ny is 1\ny is 1\ny is 1\ny is 1\ny is 1\ny is 1\ny is 1\ny is 1\ny is 1\ny is 1\ny is 1\ny is 1\ny is 1\ny is 1\ny is 1\ny is 1\ny is 1\ny is 1\ny is 1\ny is 1\ny is 1\ny is 1\ny is 1\ny is 1\ny is 1\ny is 1\ny is 1\ny is 1\ny is 1\ny is 1\ny is 1\ny is 1\ny is 1\ny is 1\ny is 1\ny is 1\ny is 1\ny is 1\ny is 1\ny is 1\ny is 1\ny is 1\ny is 1\ny is 1\ny is 1\ny is 1\ny is 1\ny is 1\ny is 1\ny is 1\ny is 1\ny is 1\ny is 1\ny is 1\ny is 1\ny is 1\ny is 1\ny is 1\ny is 1\ny is 1\ny is 1\ny is 1\ny is 1\ny is 1\ny is 1\ny is 1\ny is 1\ny is 1\ny is 1\ny is 1\ny is 1\ny is 1\ny is 1\ny is 1\ny is 1\ny is 1\ny is 1\ny is 1\ny is 1\ny is 1\ny is 1\ny is 1\ny is 1\ny is 1\ny is 1\ny is 1\ny is 1\ny is 1\ny is 1\ny is 1\ny is 1\ny is 1\ny is 1\ny is 1\ny is 1\ny is 1\ny is 1\ny is 1\ny is 1\ny is 1\ny is 1\ny is 1\ny is 1\ny is 1\ny is 1\ny is 1\ny is 1\ny is 1\ny is 1\ny is 1\ny is 1\ny is 1\ny is 1\ny is 1\ny is 1\ny is 1\ny is 1\ny is 1\ny is 1\ny is 1\ny is 1\ny is 1\ny is 1\ny is 1\ny is 1\ny is 1\ny is 1\ny is 1\ny is 1\ny is 1\ny is 1\ny is 1\ny is 1\ny is 1\ny is 1\ny is 1\ny is 1\ny is 1\ny is 1\ny is 1\ny is 1\ny is 1\ny is 1\ny is 1\ny is 1\ny is 1\ny is 1\ny is 1\ny is 1\ny is 1\ny is 1\ny is 1\ny is 1\ny is 1\ny is 1\ny is 1\ny is 1\ny is 1\ny is 1\ny is 1\ny is 1\ny is 1\ny is 1\ny is 1\ny is 1\ny is 1\ny is 1\ny is 1\ny is 1\ny is 1\ny is 1\ny is 1\ny is 1\ny is 1\ny is 1\ny is 1\ny is 1\ny is 1\ny is 1\ny is 1\ny is 1\ny is 1\ny is 1\ny is 1\ny is 1\ny is 1\ny is 1\ny is 1\ny is 1\ny is 1\ny is 1\ny is 1\ny is 1\ny is 1\ny is 1\ny is 1\ny is 1\ny is 1\ny is 1\ny is 1\ny is 1\ny is 1\ny is 1\ny is 1\ny is 1\ny is 1\ny is 1\ny is 1\ny is 1\ny is 1\ny is 1\ny is 1\ny is 1\ny is 1\ny is 1\ny is 1\ny is 1\ny is 1\ny is 1\ny is 1\ny is 1\ny is 1\ny is 1\ny is 1\ny is 1\ny is 1\ny is 1\ny is 1\ny is 1\ny is 1\ny is 1\ny is 1\ny is 1\ny is 1\ny is 1\ny is 1\ny is 1\ny is 1\ny is 1\ny is 1\ny is 1\ny is 1\ny is 1\ny is 1\ny is 1\ny is 1\ny is 1\ny is 1\ny is 1\ny is 1\ny is 1\ny is 1\ny is 1\ny is 1\ny is 1\ny is 1\ny is 1\ny is 1\ny is 1\ny is 1\ny is 1\ny is 1\ny is 1\ny is 1\ny is 1\ny is 1\ny is 1\ny is 1\ny is 1\ny is 1\ny is 1\ny is 1\ny is 1\ny is 1\ny is 1\ny is 1\ny is 1\ny is 1\ny is 1\ny is 1\ny is 1\ny is 1\ny is 1\ny is 1\ny is 1\ny is 1\ny is 1\ny is 1\ny is 1\ny is 1\ny is 1\ny is 1\ny is 1\ny is 1\ny is 1\ny is 1\ny is 1\ny is 1\ny is 1\ny is 1\ny is 1\ny is 1\ny is 1\ny is 1\ny is 1\ny is 1\ny is 1\ny is 1\ny is 1\ny is 1\ny is 1\ny is 1\ny is 1\ny is 1\ny is 1\ny is 1\ny is 1\ny is 1\ny is 1\ny is 1\ny is 1\ny is 1\ny is 1\ny is 1\ny is 1\ny is 1\ny is 1\ny is 1\ny is 1\ny is 1\ny is 1\ny is 1\ny is 1\ny is 1\ny is 1\ny is 1\ny is 1\ny is 1\ny is 1\ny is 1\ny is 1\ny is 1\ny is 1\ny is 1\ny is 1\ny is 1\ny is 1\ny is 1\ny is 1\ny is 1\ny is 1\ny is 1\ny is 1\ny is 1\ny is 1\ny is 1\ny is 1\ny is 1\ny is 1\ny is 1\ny is 1\ny is 1\ny is 1\ny is 1\ny is 1\ny is 1\ny is 1\ny is 1\ny is 1\ny is 1\ny is 1\ny is 1\ny is 1\ny is 1\ny is 1\ny is 1\ny is 1\ny is 1\ny is 1\ny is 1\ny is 1\ny is 1\ny is 1\ny is 1\ny is 1\ny is 1\ny is 1\ny is 1\ny is 1\ny is 1\ny is 1\ny is 1\ny is 1\ny is 1\ny is 1\ny is 1\ny is 1\ny is 1\ny is 1\ny is 1\ny is 1\ny is 1\ny is 1\ny is 1\ny is 1\ny is 1\ny is 1\ny is 1\ny is 1\ny is 1\ny is 1\ny is 1\ny is 1\ny is 1\ny is 1\ny is 1\ny is 1\ny is 1\ny is 1\ny is 1\ny is 1\ny is 1\ny is 1\ny is 1\ny is 1\ny is 1\ny is 1\ny is 1\ny is 1\ny is 1\ny is 1\ny is 1\ny is 1\ny is 1\ny is 1\ny is 1\ny is 1\ny is 1\ny is 1\ny is 1\ny is 1\ny is 1\ny is 1\ny is 1\ny is 1\ny is 1\ny is 1\ny is 1\ny is 1\ny is 1\ny is 1\ny is 1\ny is 1\ny is 1\ny is 1\ny is 1\ny is 1\ny is 1\ny is 1\ny is 1\ny is 1\ny is 1\ny is 1\ny is 1\ny is 1\ny is 1\ny is 1\ny is 1\ny is 1\ny is 1\ny is 1\ny is 1\ny is 1\ny is 1\ny is 1\ny is 1\ny is 1\ny is 1\ny is 1\ny is 1\ny is 1\ny is 1\ny is 1\ny is 1\ny is 1\ny is 1\ny is 1\ny is 1\ny is 1\ny is 1\ny is 1\ny is 1\ny is 1\ny is 1\ny is 1\ny is 1\ny is 1\ny is 1\ny is 1\ny is 1\ny is 1\ny is 1\ny is 1\ny is 1\ny is 1\ny is 1\ny is 1\ny is 1\ny is 1\ny is 1\ny is 1\ny is 1\ny is 1\ny is 1\ny is 1\ny is 1\ny is 1\ny is 1\ny is 1\ny is 1\ny is 1\ny is 1\ny is 1\ny is 1\ny is 1\ny is 1\ny is 1\ny is 1\ny is 1\ny is 1\ny is 1\ny is 1\ny is 1\ny is 1\ny is 1\ny is 1\ny is 1\ny is 1\ny is 1\ny is 1\ny is 1\ny is 1\ny is 1\ny is 1\ny is 1\ny is 1\ny is 1\ny is 1\ny is 1\ny is 1\ny is 1\ny is 1\ny is 1\ny is 1\ny is 1\ny is 1\ny is 1\ny is 1\ny is 1\ny is 1\ny is 1\ny is 1\ny is 1\ny is 1\ny is 1\ny is 1\ny is 1\ny is 1\ny is 1\ny is 1\ny is 1\ny is 1\ny is 1\ny is 1\ny is 1\ny is 1\ny is 1\ny is 1\ny is 1\ny is 1\ny is 1\ny is 1\ny is 1\ny is 1\ny is 1\ny is 1\ny is 1\ny is 1\ny is 1\ny is 1\ny is 1\ny is 1\ny is 1\ny is 1\ny is 1\ny is 1\ny is 1\ny is 1\ny is 1\ny is 1\ny is 1\ny is 1\ny is 1\ny is 1\ny is 1\ny is 1\ny is 1\ny is 1\ny is 1\ny is 1\ny is 1\ny is 1\ny is 1\ny is 1\ny is 1\ny is 1\ny is 1\ny is 1\ny is 1\ny is 1\ny is 1\ny is 1\ny is 1\ny is 1\ny is 1\ny is 1\ny is 1\ny is 1\ny is 1\ny is 1\ny is 1\ny is 1\ny is 1\ny is 1\ny is 1\ny is 1\ny is 1\ny is 1\ny is 1\ny is 1\ny is 1\ny is 1\ny is 1\ny is 1\ny is 1\ny is 1\ny is 1\ny is 1\ny is 1\ny is 1\ny is 1\ny is 1\ny is 1\ny is 1\ny is 1\ny is 1\ny is 1\ny is 1\ny is 1\ny is 1\ny is 1\ny is 1\ny is 1\ny is 1\ny is 1\ny is 1\ny is 1\ny is 1\ny is 1\ny is 1\ny is 1\ny is 1\ny is 1\ny is 1\ny is 1\ny is 1\ny is 1\ny is 1\ny is 1\ny is 1\ny is 1\ny is 1\ny is 1\ny is 1\ny is 1\ny is 1\ny is 1\ny is 1\ny is 1\ny is 1\ny is 1\ny is 1\ny is 1\ny is 1\ny is 1\ny is 1\ny is 1\ny is 1\ny is 1\ny is 1\ny is 1\ny is 1\ny is 1\ny is 1\ny is 1\ny is 1\ny is 1\ny is 1\ny is 1\ny is 1\ny is 1\ny is 1\ny is 1\ny is 1\ny is 1\ny is 1\ny is 1\ny is 1\ny is 1\ny is 1\ny is 1\ny is 1\ny is 1\ny is 1\ny is 1\ny is 1\ny is 1\ny is 1\ny is 1\ny is 1\ny is 1\ny is 1\ny is 1\ny is 1\ny is 1\ny is 1\ny is 1\ny is 1\ny is 1\ny is 1\ny is 1\ny is 1\ny is 1\ny is 1\ny is 1\ny is 1\ny is 1\ny is 1\ny is 1\ny is 1\ny is 1\ny is 1\ny is 1\ny is 1\ny is 1\ny is 1\ny is 1\ny is 1\ny is 1\ny is 1\ny is 1\ny is 1\ny is 1\ny is 1\ny is 1\ny is 1\ny is 1\ny is 1\ny is 1\ny is 1\ny is 1\ny is 1\ny is 1\ny is 1\ny is 1\ny is 1\ny is 1\ny is 1\ny is 1\ny is 1\ny is 1\ny is 1\ny is 1\ny is 1\ny is 1\ny is 1\ny is 1\ny is 1\ny is 1\ny is 1\ny is 1\ny is 1\ny is 1\ny is 1\ny is 1\ny is 1\ny is 1\ny is 1\ny is 1\ny is 1\ny is 1\ny is 1\ny is 1\ny is 1\ny is 1\ny is 1\ny is 1\ny is 1\ny is 1\ny is 1\ny is 1\ny is 1\ny is 1\ny is 1\ny is 1\ny is 1\ny is 1\ny is 1\ny is 1\ny is 1\ny is 1\ny is 1\ny is 1\ny is 1\ny is 1\ny is 1\ny is 1\ny is 1\ny is 1\ny is 1\ny is 1\ny is 1\ny is 1\ny is 1\ny is 1\ny is 1\ny is 1\ny is 1\ny is 1\ny is 1\ny is 1\ny is 1\ny is 1\ny is 1\ny is 1\ny is 1\ny is 1\ny is 1\ny is 1\ny is 1\ny is 1\ny is 1\ny is 1\ny is 1\ny is 1\ny is 1\ny is 1\ny is 1\ny is 1\ny is 1\ny is 1\ny is 1\ny is 1\ny is 1\ny is 1\ny is 1\ny is 1\ny is 1\ny is 1\ny is 1\ny is 1\ny is 1\ny is 1\ny is 1\ny is 1\ny is 1\ny is 1\ny is 1\ny is 1\ny is 1\ny is 1\ny is 1\ny is 1\ny is 1\ny is 1\ny is 1\ny is 1\ny is 1\ny is 1\ny is 1\ny is 1\ny is 1\ny is 1\ny is 1\ny is 1\ny is 1\ny is 1\ny is 1\ny is 1\ny is 1\ny is 1\ny is 1\ny is 1\ny is 1\ny is 1\ny is 1\ny is 1\ny is 1\ny is 1\ny is 1\ny is 1\ny is 1\ny is 1\ny is 1\ny is 1\ny is 1\ny is 1\ny is 1\ny is 1\ny is 1\ny is 1\ny is 1\ny is 1\ny is 1\ny is 1\ny is 1\ny is 1\ny is 1\ny is 1\ny is 1\ny is 1\ny is 1\ny is 1\ny is 1\ny is 1\ny is 1\ny is 1\ny is 1\ny is 1\ny is 1\ny is 1\ny is 1\ny is 1\ny is 1\ny is 1\ny is 1\ny is 1\ny is 1\ny is 1\ny is 1\ny is 1\ny is 1\ny is 1\ny is 1\ny is 1\ny is 1\ny is 1\ny is 1\ny is 1\ny is 1\ny is 1\ny is 1\ny is 1\ny is 1\ny is 1\ny is 1\ny is 1\ny is 1\ny is 1\ny is 1\ny is 1\ny is 1\ny is 1\ny is 1\ny is 1\ny is 1\ny is 1\ny is 1\ny is 1\ny is 1\ny is 1\ny is 1\ny is 1\ny is 1\ny is 1\ny is 1\ny is 1\ny is 1\ny is 1\ny is 1\ny is 1\ny is 1\ny is 1\ny is 1\ny is 1\ny is 1\ny is 1\ny is 1\ny is 1\ny is 1\ny is 1\ny is 1\ny is 1\ny is 1\ny is 1\ny is 1\ny is 1\ny is 1\ny is 1\ny is 1\ny is 1\ny is 1\ny is 1\ny is 1\ny is 1\ny is 1\ny is 1\ny is 1\ny is 1\ny is 1\ny is 1\ny is 1\ny is 1\ny is 1\ny is 1\ny is 1\ny is 1\ny is 1\ny is 1\ny is 1\ny is 1\ny is 1\ny is 1\ny is 1\ny is 1\ny is 1\ny is 1\ny is 1\ny is 1\ny is 1\ny is 1\ny is 1\ny is 1\ny is 1\ny is 1\ny is 1\ny is 1\ny is 1\ny is 1\ny is 1\ny is 1\ny is 1\ny is 1\ny is 1\ny is 1\ny is 1\ny is 1\ny is 1\ny is 1\ny is 1\ny is 1\ny is 1\ny is 1\ny is 1\ny is 1\ny is 1\ny is 1\ny is 1\ny is 1\ny is 1\ny is 1\ny is 1\ny is 1\ny is 1\ny is 1\ny is 1\ny is 1\ny is 1\ny is 1\ny is 1\ny is 1\ny is 1\ny is 1\ny is 1\ny is 1\ny is 1\ny is 1\ny is 1\ny is 1\ny is 1\ny is 1\ny is 1\ny is 1\ny is 1\ny is 1\ny is 1\ny is 1\ny is 1\ny is 1\ny is 1\ny is 1\ny is 1\ny is 1\ny is 1\ny is 1\ny is 1\ny is 1\ny is 1\ny is 1\ny is 1\ny is 1\ny is 1\ny is 1\ny is 1\ny is 1\ny is 1\ny is 1\ny is 1\ny is 1\ny is 1\ny is 1\ny is 1\ny is 1\ny is 1\ny is 1\ny is 1\ny is 1\ny is 1\ny is 1\ny is 1\ny is 1\ny is 1\ny is 1\ny is 1\ny is 1\ny is 1\ny is 1\ny is 1\ny is 1\ny is 1\ny is 1\ny is 1\ny is 1\ny is 1\ny is 1\ny is 1\ny is 1\ny is 1\ny is 1\ny is 1\ny is 1\ny is 1\ny is 1\ny is 1\ny is 1\ny is 1\ny is 1\ny is 1\ny is 1\ny is 1\ny is 1\ny is 1\ny is 1\ny is 1\ny is 1\ny is 1\ny is 1\ny is 1\ny is 1\ny is 1\ny is 1\ny is 1\ny is 1\ny is 1\ny is 1\ny is 1\ny is 1\ny is 1\ny is 1\ny is 1\ny is 1\ny is 1\ny is 1\ny is 1\ny is 1\ny is 1\ny is 1\ny is 1\ny is 1\ny is 1\ny is 1\ny is 1\ny is 1\ny is 1\ny is 1\ny is 1\ny is 1\ny is 1\ny is 1\ny is 1\ny is 1\ny is 1\ny is 1\ny is 1\ny is 1\ny is 1\ny is 1\ny is 1\ny is 1\ny is 1\ny is 1\ny is 1\ny is 1\ny is 1\ny is 1\ny is 1\ny is 1\ny is 1\ny is 1\ny is 1\ny is 1\ny is 1\ny is 1\ny is 1\ny is 1\ny is 1\ny is 1\ny is 1\ny is 1\ny is 1\ny is 1\ny is 1\ny is 1\ny is 1\ny is 1\ny is 1\ny is 1\ny is 1\ny is 1\ny is 1\ny is 1\ny is 1\ny is 1\ny is 1\ny is 1\ny is 1\ny is 1\ny is 1\ny is 1\ny is 1\ny is 1\ny is 1\ny is 1\ny is 1\ny is 1\ny is 1\ny is 1\ny is 1\ny is 1\ny is 1\ny is 1\ny is 1\ny is 1\ny is 1\ny is 1\ny is 1\ny is 1\ny is 1\ny is 1\ny is 1\ny is 1\ny is 1"
    },
    {
     "output_type": "error",
     "ename": "KeyboardInterrupt",
     "evalue": "",
     "traceback": [
      "\u001b[1;31m---------------------------------------------------------------------------\u001b[0m",
      "\u001b[1;31mKeyboardInterrupt\u001b[0m                         Traceback (most recent call last)",
      "\u001b[1;32m&lt;ipython-input-27-beba73eb053e&gt;\u001b[0m in \u001b[0;36m&lt;module&gt;\u001b[1;34m\u001b[0m\n\u001b[0;32m     14\u001b[0m \u001b[0my\u001b[0m \u001b[1;33m=\u001b[0m \u001b[1;36m1\u001b[0m\u001b[1;33m\u001b[0m\u001b[1;33m\u001b[0m\u001b[0m\n\u001b[0;32m     15\u001b[0m \u001b[1;32mwhile\u001b[0m \u001b[0my\u001b[0m \u001b[1;33m==\u001b[0m \u001b[1;36m1\u001b[0m\u001b[1;33m:\u001b[0m\u001b[1;33m\u001b[0m\u001b[1;33m\u001b[0m\u001b[0m\n\u001b[1;32m---&gt; 16\u001b[1;33m     \u001b[0mprint\u001b[0m\u001b[1;33m(\u001b[0m\u001b[1;34m&quot;y is 1&quot;\u001b[0m\u001b[1;33m)\u001b[0m\u001b[1;33m\u001b[0m\u001b[1;33m\u001b[0m\u001b[0m\n\u001b[0m",
      "\u001b[1;32m~\\AppData\\Roaming\\Python\\Python38\\site-packages\\ipykernel\\iostream.py\u001b[0m in \u001b[0;36mwrite\u001b[1;34m(self, string)\u001b[0m\n\u001b[0;32m    402\u001b[0m             \u001b[0mis_child\u001b[0m \u001b[1;33m=\u001b[0m \u001b[1;33m(\u001b[0m\u001b[1;32mnot\u001b[0m \u001b[0mself\u001b[0m\u001b[1;33m.\u001b[0m\u001b[0m_is_master_process\u001b[0m\u001b[1;33m(\u001b[0m\u001b[1;33m)\u001b[0m\u001b[1;33m)\u001b[0m\u001b[1;33m\u001b[0m\u001b[1;33m\u001b[0m\u001b[0m\n\u001b[0;32m    403\u001b[0m             \u001b[1;31m# only touch the buffer in the IO thread to avoid races\u001b[0m\u001b[1;33m\u001b[0m\u001b[1;33m\u001b[0m\u001b[1;33m\u001b[0m\u001b[0m\n\u001b[1;32m--&gt; 404\u001b[1;33m             \u001b[0mself\u001b[0m\u001b[1;33m.\u001b[0m\u001b[0mpub_thread\u001b[0m\u001b[1;33m.\u001b[0m\u001b[0mschedule\u001b[0m\u001b[1;33m(\u001b[0m\u001b[1;32mlambda\u001b[0m \u001b[1;33m:\u001b[0m \u001b[0mself\u001b[0m\u001b[1;33m.\u001b[0m\u001b[0m_buffer\u001b[0m\u001b[1;33m.\u001b[0m\u001b[0mwrite\u001b[0m\u001b[1;33m(\u001b[0m\u001b[0mstring\u001b[0m\u001b[1;33m)\u001b[0m\u001b[1;33m)\u001b[0m\u001b[1;33m\u001b[0m\u001b[1;33m\u001b[0m\u001b[0m\n\u001b[0m\u001b[0;32m    405\u001b[0m             \u001b[1;32mif\u001b[0m \u001b[0mis_child\u001b[0m\u001b[1;33m:\u001b[0m\u001b[1;33m\u001b[0m\u001b[1;33m\u001b[0m\u001b[0m\n\u001b[0;32m    406\u001b[0m                 \u001b[1;31m# mp.Pool cannot be trusted to flush promptly (or ever),\u001b[0m\u001b[1;33m\u001b[0m\u001b[1;33m\u001b[0m\u001b[1;33m\u001b[0m\u001b[0m\n",
      "\u001b[1;32m~\\AppData\\Roaming\\Python\\Python38\\site-packages\\ipykernel\\iostream.py\u001b[0m in \u001b[0;36mschedule\u001b[1;34m(self, f)\u001b[0m\n\u001b[0;32m    203\u001b[0m             \u001b[0mself\u001b[0m\u001b[1;33m.\u001b[0m\u001b[0m_events\u001b[0m\u001b[1;33m.\u001b[0m\u001b[0mappend\u001b[0m\u001b[1;33m(\u001b[0m\u001b[0mf\u001b[0m\u001b[1;33m)\u001b[0m\u001b[1;33m\u001b[0m\u001b[1;33m\u001b[0m\u001b[0m\n\u001b[0;32m    204\u001b[0m             \u001b[1;31m# wake event thread (message content is ignored)\u001b[0m\u001b[1;33m\u001b[0m\u001b[1;33m\u001b[0m\u001b[1;33m\u001b[0m\u001b[0m\n\u001b[1;32m--&gt; 205\u001b[1;33m             \u001b[0mself\u001b[0m\u001b[1;33m.\u001b[0m\u001b[0m_event_pipe\u001b[0m\u001b[1;33m.\u001b[0m\u001b[0msend\u001b[0m\u001b[1;33m(\u001b[0m\u001b[1;34mb&#39;&#39;\u001b[0m\u001b[1;33m)\u001b[0m\u001b[1;33m\u001b[0m\u001b[1;33m\u001b[0m\u001b[0m\n\u001b[0m\u001b[0;32m    206\u001b[0m         \u001b[1;32melse\u001b[0m\u001b[1;33m:\u001b[0m\u001b[1;33m\u001b[0m\u001b[1;33m\u001b[0m\u001b[0m\n\u001b[0;32m    207\u001b[0m             \u001b[0mf\u001b[0m\u001b[1;33m(\u001b[0m\u001b[1;33m)\u001b[0m\u001b[1;33m\u001b[0m\u001b[1;33m\u001b[0m\u001b[0m\n",
      "\u001b[1;32m~\\AppData\\Roaming\\Python\\Python38\\site-packages\\zmq\\sugar\\socket.py\u001b[0m in \u001b[0;36msend\u001b[1;34m(self, data, flags, copy, track, routing_id, group)\u001b[0m\n\u001b[0;32m    414\u001b[0m                                  copy_threshold=self.copy_threshold)\n\u001b[0;32m    415\u001b[0m             \u001b[0mdata\u001b[0m\u001b[1;33m.\u001b[0m\u001b[0mgroup\u001b[0m \u001b[1;33m=\u001b[0m \u001b[0mgroup\u001b[0m\u001b[1;33m\u001b[0m\u001b[1;33m\u001b[0m\u001b[0m\n\u001b[1;32m--&gt; 416\u001b[1;33m         \u001b[1;32mreturn\u001b[0m \u001b[0msuper\u001b[0m\u001b[1;33m(\u001b[0m\u001b[0mSocket\u001b[0m\u001b[1;33m,\u001b[0m \u001b[0mself\u001b[0m\u001b[1;33m)\u001b[0m\u001b[1;33m.\u001b[0m\u001b[0msend\u001b[0m\u001b[1;33m(\u001b[0m\u001b[0mdata\u001b[0m\u001b[1;33m,\u001b[0m \u001b[0mflags\u001b[0m\u001b[1;33m=\u001b[0m\u001b[0mflags\u001b[0m\u001b[1;33m,\u001b[0m \u001b[0mcopy\u001b[0m\u001b[1;33m=\u001b[0m\u001b[0mcopy\u001b[0m\u001b[1;33m,\u001b[0m \u001b[0mtrack\u001b[0m\u001b[1;33m=\u001b[0m\u001b[0mtrack\u001b[0m\u001b[1;33m)\u001b[0m\u001b[1;33m\u001b[0m\u001b[1;33m\u001b[0m\u001b[0m\n\u001b[0m\u001b[0;32m    417\u001b[0m \u001b[1;33m\u001b[0m\u001b[0m\n\u001b[0;32m    418\u001b[0m     \u001b[1;32mdef\u001b[0m \u001b[0msend_multipart\u001b[0m\u001b[1;33m(\u001b[0m\u001b[0mself\u001b[0m\u001b[1;33m,\u001b[0m \u001b[0mmsg_parts\u001b[0m\u001b[1;33m,\u001b[0m \u001b[0mflags\u001b[0m\u001b[1;33m=\u001b[0m\u001b[1;36m0\u001b[0m\u001b[1;33m,\u001b[0m \u001b[0mcopy\u001b[0m\u001b[1;33m=\u001b[0m\u001b[1;32mTrue\u001b[0m\u001b[1;33m,\u001b[0m \u001b[0mtrack\u001b[0m\u001b[1;33m=\u001b[0m\u001b[1;32mFalse\u001b[0m\u001b[1;33m,\u001b[0m \u001b[1;33m**\u001b[0m\u001b[0mkwargs\u001b[0m\u001b[1;33m)\u001b[0m\u001b[1;33m:\u001b[0m\u001b[1;33m\u001b[0m\u001b[1;33m\u001b[0m\u001b[0m\n",
      "\u001b[1;32mzmq\\backend\\cython\\socket.pyx\u001b[0m in \u001b[0;36mzmq.backend.cython.socket.Socket.send\u001b[1;34m()\u001b[0m\n",
      "\u001b[1;32mzmq\\backend\\cython\\socket.pyx\u001b[0m in \u001b[0;36mzmq.backend.cython.socket.Socket.send\u001b[1;34m()\u001b[0m\n",
      "\u001b[1;32mzmq\\backend\\cython\\socket.pyx\u001b[0m in \u001b[0;36mzmq.backend.cython.socket._send_copy\u001b[1;34m()\u001b[0m\n",
      "\u001b[1;32m~\\AppData\\Roaming\\Python\\Python38\\site-packages\\zmq\\backend\\cython\\checkrc.pxd\u001b[0m in \u001b[0;36mzmq.backend.cython.checkrc._check_rc\u001b[1;34m()\u001b[0m\n",
      "\u001b[1;31mKeyboardInterrupt\u001b[0m: "
     ]
    }
   ],
   "source": [
    "#Ex 1\n",
    "x = \"I think I forgot something\"\n",
    "print(x)\n",
    "\n",
    "\n",
    "#Ex 2\n",
    "x = 7\n",
    "def fun(x):\n",
    "    print(\"x is\", x)\n",
    "fun(x)\n",
    "\n",
    "\n",
    "#Ex 3\n",
    "y = 1\n",
    "while y == 1:\n",
    "    print(\"y is 1\")"
   ]
  },
  {
   "cell_type": "markdown",
   "metadata": {
    "colab_type": "text",
    "id": "v10g6d_XKchG"
   },
   "source": [
    "## **Value** Error"
   ]
  },
  {
   "cell_type": "code",
   "execution_count": 31,
   "metadata": {
    "colab": {},
    "colab_type": "code",
    "id": "GVAu72FlKcEv",
    "tags": []
   },
   "outputs": [
    {
     "output_type": "stream",
     "name": "stdout",
     "text": "1P13\n"
    }
   ],
   "source": [
    "#Ex 1\n",
    "notAnInteger = \"1P13\"\n",
    "print(notAnInteger)\n",
    "\n",
    "\n",
    "#Ex 2\n",
    "my_list = [1, 2, 3, 4]\n",
    "my_list.remove(4)\n",
    "\n",
    "#Ex 3\n",
    "a,b,c = [1, 2, 3]\n"
   ]
  },
  {
   "cell_type": "markdown",
   "metadata": {
    "colab_type": "text",
    "id": "Lz2buJSbMWwL"
   },
   "source": [
    "---\n",
    "# Breakout Problem\n",
    "\n",
    "In your teams, create a program that calculates the area of a circle given a radius *r*. The area of a circle is calculated with the following formula:\n",
    "\n",
    "$$area = \\pi*r^2 \\tag{1}$$\n",
    "\n",
    "The symbol $\\pi$ represents the mathematical constant pi.\n",
    "\n",
    "The program should take a radius as input from the user, calculate the area using formula (1), and then print the following message:\n",
    "\n",
    " >\"The area of a circle with radius *&lt;r&gt;* is *&lt;area&gt;*\"\n",
    "\n",
    "Where *&lt;r&gt;* and *&lt;area&gt;* are the actual values of the radius and calculated area respectively. Please write your code in the cell below. \n",
    "\n",
    "*(Hint: You need to import the math library to use the pi constant)*\n"
   ]
  },
  {
   "cell_type": "code",
   "execution_count": 2,
   "metadata": {
    "tags": []
   },
   "outputs": [
    {
     "output_type": "stream",
     "name": "stdout",
     "text": "The area of a circle with radius 2.0 is 12.566370614359172\n"
    }
   ],
   "source": [
    "# YOUR CODE HERE\n",
    "from math import pi\n",
    "radius = float(input(\"Enter radius: \"))\n",
    "area = pi * radius ** 2\n",
    "\n",
    "print(f\"The area of a circle with radius {radius} is {area}\")"
   ]
  },
  {
   "cell_type": "markdown",
   "metadata": {
    "colab_type": "text",
    "id": "5Pp0CMqryjeP"
   },
   "source": [
    "---\n",
    "\n",
    "# Additional Resources\n",
    "## Built In Functions\n",
    "[Built-in Functions](https://docs.python.org/3/library/functions.html) <br/>\n",
    "[Python Modules](https://docs.python.org/3/tutorial/modules.html)\n",
    "\n",
    "\n",
    "## References\n",
    "\n",
    "[1. Get Started with Google Colab](https://colab.research.google.com/notebooks/intro.ipynb)\n",
    "\n",
    "[EXAMPLE]: https://www.mozilla.org\n",
    "[2. Help function in Python](https://www.geeksforgeeks.org/help-function-in-python/)\n",
    "\n",
    "\n"
   ]
  }
 ],
 "metadata": {
  "colab": {
   "collapsed_sections": [],
   "name": "ENGINEER 1P13 - Computing Lab 1B (Trial and Errors) - Solutions",
   "provenance": []
  },
  "kernelspec": {
   "name": "Python 3.8.2 32-bit",
   "display_name": "Python 3.8.2 32-bit",
   "metadata": {
    "interpreter": {
     "hash": "19f9c55c269f5a0d491492c337ff72d161c925164052b8f71974adb7d23217ea"
    }
   }
  },
  "language_info": {
   "codemirror_mode": {
    "name": "ipython",
    "version": 3
   },
   "file_extension": ".py",
   "mimetype": "text/x-python",
   "name": "python",
   "nbconvert_exporter": "python",
   "pygments_lexer": "ipython3",
   "version": "3.8.2-final"
  }
 },
 "nbformat": 4,
 "nbformat_minor": 1
}